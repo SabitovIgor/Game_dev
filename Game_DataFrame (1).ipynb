{
 "cells": [
  {
   "cell_type": "markdown",
   "metadata": {},
   "source": [
    "# Анализ исторических данных о продажах видеоигр"
   ]
  },
  {
   "cell_type": "markdown",
   "metadata": {},
   "source": [
    "Я работаю в интернет-магазине «Стримчик», который продаёт по всему миру компьютерные игры. Из открытых источников доступны исторические данные о продажах игр, оценки пользователей и экспертов, жанры и платформы (например, Xbox или PlayStation). Вам нужно выявить определяющие успешность игры закономерности. Это позволит сделать ставку на потенциально популярный продукт и спланировать рекламные кампании.\n",
    "У меня есть данные до 2016 года. Сейчас декабрь 2016 г., и я планирую кампанию на 2017-й. Нужно отработать принцип работы с данными. Неважно, прогнозирую ли я продажи на 2017 год по данным 2016-го или же 2027-й — по данным 2026 года"
   ]
  },
  {
   "cell_type": "markdown",
   "metadata": {},
   "source": [
    "# Цель проекта"
   ]
  },
  {
   "cell_type": "markdown",
   "metadata": {},
   "source": [
    "Запланировать успешную кампанию на 2017-й год. Мне нужно выявить определяющие успешность игры закономерности. Это позволит сделать ставку на потенциально популярный продукт и спланировать рекламные кампании."
   ]
  },
  {
   "cell_type": "markdown",
   "metadata": {},
   "source": [
    "## Изучение данных из файла"
   ]
  },
  {
   "cell_type": "markdown",
   "metadata": {},
   "source": [
    "Импортируем библиотеки. Прочтем файл при помощи библиотеки Pandas и сохраним в датафрейм"
   ]
  },
  {
   "cell_type": "code",
   "execution_count": 2,
   "metadata": {},
   "outputs": [],
   "source": [
    "import pandas as pd # импорт библиотеки pandas\n",
    "import matplotlib.pyplot as plt # импорт библиотеки matplotlib\n",
    "import seaborn as sns # импорт библиотеки seaborn\n",
    "import numpy as np # импорт библиотеки numpy\n",
    "from scipy import stats as st # импорт библиотеки stats"
   ]
  },
  {
   "cell_type": "code",
   "execution_count": 3,
   "metadata": {},
   "outputs": [],
   "source": [
    "df = pd.read_csv('/datasets/games.csv', sep=',') # чтение файла с данными и сохранение в df"
   ]
  },
  {
   "cell_type": "code",
   "execution_count": 4,
   "metadata": {},
   "outputs": [
    {
     "name": "stdout",
     "output_type": "stream",
     "text": [
      "<class 'pandas.core.frame.DataFrame'>\n",
      "RangeIndex: 16715 entries, 0 to 16714\n",
      "Data columns (total 11 columns):\n",
      " #   Column           Non-Null Count  Dtype  \n",
      "---  ------           --------------  -----  \n",
      " 0   Name             16713 non-null  object \n",
      " 1   Platform         16715 non-null  object \n",
      " 2   Year_of_Release  16446 non-null  float64\n",
      " 3   Genre            16713 non-null  object \n",
      " 4   NA_sales         16715 non-null  float64\n",
      " 5   EU_sales         16715 non-null  float64\n",
      " 6   JP_sales         16715 non-null  float64\n",
      " 7   Other_sales      16715 non-null  float64\n",
      " 8   Critic_Score     8137 non-null   float64\n",
      " 9   User_Score       10014 non-null  object \n",
      " 10  Rating           9949 non-null   object \n",
      "dtypes: float64(6), object(5)\n",
      "memory usage: 1.4+ MB\n"
     ]
    }
   ],
   "source": [
    "df.info() # получение общей информации о данных в таблице df"
   ]
  },
  {
   "cell_type": "code",
   "execution_count": 5,
   "metadata": {},
   "outputs": [
    {
     "data": {
      "text/html": [
       "<div>\n",
       "<style scoped>\n",
       "    .dataframe tbody tr th:only-of-type {\n",
       "        vertical-align: middle;\n",
       "    }\n",
       "\n",
       "    .dataframe tbody tr th {\n",
       "        vertical-align: top;\n",
       "    }\n",
       "\n",
       "    .dataframe thead th {\n",
       "        text-align: right;\n",
       "    }\n",
       "</style>\n",
       "<table border=\"1\" class=\"dataframe\">\n",
       "  <thead>\n",
       "    <tr style=\"text-align: right;\">\n",
       "      <th></th>\n",
       "      <th>Name</th>\n",
       "      <th>Platform</th>\n",
       "      <th>Year_of_Release</th>\n",
       "      <th>Genre</th>\n",
       "      <th>NA_sales</th>\n",
       "      <th>EU_sales</th>\n",
       "      <th>JP_sales</th>\n",
       "      <th>Other_sales</th>\n",
       "      <th>Critic_Score</th>\n",
       "      <th>User_Score</th>\n",
       "      <th>Rating</th>\n",
       "    </tr>\n",
       "  </thead>\n",
       "  <tbody>\n",
       "    <tr>\n",
       "      <th>0</th>\n",
       "      <td>Wii Sports</td>\n",
       "      <td>Wii</td>\n",
       "      <td>2006.0</td>\n",
       "      <td>Sports</td>\n",
       "      <td>41.36</td>\n",
       "      <td>28.96</td>\n",
       "      <td>3.77</td>\n",
       "      <td>8.45</td>\n",
       "      <td>76.0</td>\n",
       "      <td>8</td>\n",
       "      <td>E</td>\n",
       "    </tr>\n",
       "    <tr>\n",
       "      <th>1</th>\n",
       "      <td>Super Mario Bros.</td>\n",
       "      <td>NES</td>\n",
       "      <td>1985.0</td>\n",
       "      <td>Platform</td>\n",
       "      <td>29.08</td>\n",
       "      <td>3.58</td>\n",
       "      <td>6.81</td>\n",
       "      <td>0.77</td>\n",
       "      <td>NaN</td>\n",
       "      <td>NaN</td>\n",
       "      <td>NaN</td>\n",
       "    </tr>\n",
       "    <tr>\n",
       "      <th>2</th>\n",
       "      <td>Mario Kart Wii</td>\n",
       "      <td>Wii</td>\n",
       "      <td>2008.0</td>\n",
       "      <td>Racing</td>\n",
       "      <td>15.68</td>\n",
       "      <td>12.76</td>\n",
       "      <td>3.79</td>\n",
       "      <td>3.29</td>\n",
       "      <td>82.0</td>\n",
       "      <td>8.3</td>\n",
       "      <td>E</td>\n",
       "    </tr>\n",
       "    <tr>\n",
       "      <th>3</th>\n",
       "      <td>Wii Sports Resort</td>\n",
       "      <td>Wii</td>\n",
       "      <td>2009.0</td>\n",
       "      <td>Sports</td>\n",
       "      <td>15.61</td>\n",
       "      <td>10.93</td>\n",
       "      <td>3.28</td>\n",
       "      <td>2.95</td>\n",
       "      <td>80.0</td>\n",
       "      <td>8</td>\n",
       "      <td>E</td>\n",
       "    </tr>\n",
       "    <tr>\n",
       "      <th>4</th>\n",
       "      <td>Pokemon Red/Pokemon Blue</td>\n",
       "      <td>GB</td>\n",
       "      <td>1996.0</td>\n",
       "      <td>Role-Playing</td>\n",
       "      <td>11.27</td>\n",
       "      <td>8.89</td>\n",
       "      <td>10.22</td>\n",
       "      <td>1.00</td>\n",
       "      <td>NaN</td>\n",
       "      <td>NaN</td>\n",
       "      <td>NaN</td>\n",
       "    </tr>\n",
       "    <tr>\n",
       "      <th>5</th>\n",
       "      <td>Tetris</td>\n",
       "      <td>GB</td>\n",
       "      <td>1989.0</td>\n",
       "      <td>Puzzle</td>\n",
       "      <td>23.20</td>\n",
       "      <td>2.26</td>\n",
       "      <td>4.22</td>\n",
       "      <td>0.58</td>\n",
       "      <td>NaN</td>\n",
       "      <td>NaN</td>\n",
       "      <td>NaN</td>\n",
       "    </tr>\n",
       "    <tr>\n",
       "      <th>6</th>\n",
       "      <td>New Super Mario Bros.</td>\n",
       "      <td>DS</td>\n",
       "      <td>2006.0</td>\n",
       "      <td>Platform</td>\n",
       "      <td>11.28</td>\n",
       "      <td>9.14</td>\n",
       "      <td>6.50</td>\n",
       "      <td>2.88</td>\n",
       "      <td>89.0</td>\n",
       "      <td>8.5</td>\n",
       "      <td>E</td>\n",
       "    </tr>\n",
       "    <tr>\n",
       "      <th>7</th>\n",
       "      <td>Wii Play</td>\n",
       "      <td>Wii</td>\n",
       "      <td>2006.0</td>\n",
       "      <td>Misc</td>\n",
       "      <td>13.96</td>\n",
       "      <td>9.18</td>\n",
       "      <td>2.93</td>\n",
       "      <td>2.84</td>\n",
       "      <td>58.0</td>\n",
       "      <td>6.6</td>\n",
       "      <td>E</td>\n",
       "    </tr>\n",
       "    <tr>\n",
       "      <th>8</th>\n",
       "      <td>New Super Mario Bros. Wii</td>\n",
       "      <td>Wii</td>\n",
       "      <td>2009.0</td>\n",
       "      <td>Platform</td>\n",
       "      <td>14.44</td>\n",
       "      <td>6.94</td>\n",
       "      <td>4.70</td>\n",
       "      <td>2.24</td>\n",
       "      <td>87.0</td>\n",
       "      <td>8.4</td>\n",
       "      <td>E</td>\n",
       "    </tr>\n",
       "    <tr>\n",
       "      <th>9</th>\n",
       "      <td>Duck Hunt</td>\n",
       "      <td>NES</td>\n",
       "      <td>1984.0</td>\n",
       "      <td>Shooter</td>\n",
       "      <td>26.93</td>\n",
       "      <td>0.63</td>\n",
       "      <td>0.28</td>\n",
       "      <td>0.47</td>\n",
       "      <td>NaN</td>\n",
       "      <td>NaN</td>\n",
       "      <td>NaN</td>\n",
       "    </tr>\n",
       "  </tbody>\n",
       "</table>\n",
       "</div>"
      ],
      "text/plain": [
       "                        Name Platform  Year_of_Release         Genre  \\\n",
       "0                 Wii Sports      Wii           2006.0        Sports   \n",
       "1          Super Mario Bros.      NES           1985.0      Platform   \n",
       "2             Mario Kart Wii      Wii           2008.0        Racing   \n",
       "3          Wii Sports Resort      Wii           2009.0        Sports   \n",
       "4   Pokemon Red/Pokemon Blue       GB           1996.0  Role-Playing   \n",
       "5                     Tetris       GB           1989.0        Puzzle   \n",
       "6      New Super Mario Bros.       DS           2006.0      Platform   \n",
       "7                   Wii Play      Wii           2006.0          Misc   \n",
       "8  New Super Mario Bros. Wii      Wii           2009.0      Platform   \n",
       "9                  Duck Hunt      NES           1984.0       Shooter   \n",
       "\n",
       "   NA_sales  EU_sales  JP_sales  Other_sales  Critic_Score User_Score Rating  \n",
       "0     41.36     28.96      3.77         8.45          76.0          8      E  \n",
       "1     29.08      3.58      6.81         0.77           NaN        NaN    NaN  \n",
       "2     15.68     12.76      3.79         3.29          82.0        8.3      E  \n",
       "3     15.61     10.93      3.28         2.95          80.0          8      E  \n",
       "4     11.27      8.89     10.22         1.00           NaN        NaN    NaN  \n",
       "5     23.20      2.26      4.22         0.58           NaN        NaN    NaN  \n",
       "6     11.28      9.14      6.50         2.88          89.0        8.5      E  \n",
       "7     13.96      9.18      2.93         2.84          58.0        6.6      E  \n",
       "8     14.44      6.94      4.70         2.24          87.0        8.4      E  \n",
       "9     26.93      0.63      0.28         0.47           NaN        NaN    NaN  "
      ]
     },
     "execution_count": 5,
     "metadata": {},
     "output_type": "execute_result"
    }
   ],
   "source": [
    "df.head(10) # посмотрим на первые 10 строк в таблице df"
   ]
  },
  {
   "cell_type": "markdown",
   "metadata": {},
   "source": [
    "##  Предобработка данных"
   ]
  },
  {
   "cell_type": "markdown",
   "metadata": {},
   "source": [
    "Приведем к нижнему регистру названия столбцов"
   ]
  },
  {
   "cell_type": "code",
   "execution_count": 6,
   "metadata": {},
   "outputs": [],
   "source": [
    "df.columns = df.columns.str.lower() # приводим к нижнему регистру"
   ]
  },
  {
   "cell_type": "code",
   "execution_count": 7,
   "metadata": {},
   "outputs": [
    {
     "data": {
      "text/plain": [
       "Index(['name', 'platform', 'year_of_release', 'genre', 'na_sales', 'eu_sales',\n",
       "       'jp_sales', 'other_sales', 'critic_score', 'user_score', 'rating'],\n",
       "      dtype='object')"
      ]
     },
     "execution_count": 7,
     "metadata": {},
     "output_type": "execute_result"
    }
   ],
   "source": [
    "df.columns # проверяем название столбцов"
   ]
  },
  {
   "cell_type": "markdown",
   "metadata": {},
   "source": [
    "Считаем количесвто пропусков"
   ]
  },
  {
   "cell_type": "code",
   "execution_count": 8,
   "metadata": {},
   "outputs": [
    {
     "data": {
      "text/plain": [
       "name                  2\n",
       "platform              0\n",
       "year_of_release     269\n",
       "genre                 2\n",
       "na_sales              0\n",
       "eu_sales              0\n",
       "jp_sales              0\n",
       "other_sales           0\n",
       "critic_score       8578\n",
       "user_score         6701\n",
       "rating             6766\n",
       "dtype: int64"
      ]
     },
     "execution_count": 8,
     "metadata": {},
     "output_type": "execute_result"
    }
   ],
   "source": [
    "df.isna().sum()  # считаем пропуски"
   ]
  },
  {
   "cell_type": "markdown",
   "metadata": {},
   "source": [
    "Обрабатываем пропуски"
   ]
  },
  {
   "cell_type": "code",
   "execution_count": 9,
   "metadata": {},
   "outputs": [],
   "source": [
    "df['critic_score']=df['critic_score'].fillna(-1) #ставим  заглушку\n",
    "df['user_score']=df['user_score'].fillna(-1) #ставим  заглушку\n",
    "df['rating']=df['rating'].fillna('no_rating') #  прописываем что рейтинга нет\n",
    "df['name']=df['name'].fillna(0)  #ставим  заглушку для удаления\n",
    "df['genre']=df['genre'].fillna(0) #ставим  заглушку для удаления\n",
    "df['year_of_release']=df['year_of_release'].fillna(0) #ставим  заглушку"
   ]
  },
  {
   "cell_type": "markdown",
   "metadata": {},
   "source": [
    "Проверяем наличие пропусков"
   ]
  },
  {
   "cell_type": "code",
   "execution_count": 10,
   "metadata": {},
   "outputs": [
    {
     "data": {
      "text/plain": [
       "name               0\n",
       "platform           0\n",
       "year_of_release    0\n",
       "genre              0\n",
       "na_sales           0\n",
       "eu_sales           0\n",
       "jp_sales           0\n",
       "other_sales        0\n",
       "critic_score       0\n",
       "user_score         0\n",
       "rating             0\n",
       "dtype: int64"
      ]
     },
     "execution_count": 10,
     "metadata": {},
     "output_type": "execute_result"
    }
   ],
   "source": [
    "df.isna().sum() # считаем пропуски еще раз"
   ]
  },
  {
   "cell_type": "markdown",
   "metadata": {},
   "source": [
    "Найдем игры без названия  и жанра"
   ]
  },
  {
   "cell_type": "code",
   "execution_count": 11,
   "metadata": {},
   "outputs": [
    {
     "data": {
      "text/html": [
       "<div>\n",
       "<style scoped>\n",
       "    .dataframe tbody tr th:only-of-type {\n",
       "        vertical-align: middle;\n",
       "    }\n",
       "\n",
       "    .dataframe tbody tr th {\n",
       "        vertical-align: top;\n",
       "    }\n",
       "\n",
       "    .dataframe thead th {\n",
       "        text-align: right;\n",
       "    }\n",
       "</style>\n",
       "<table border=\"1\" class=\"dataframe\">\n",
       "  <thead>\n",
       "    <tr style=\"text-align: right;\">\n",
       "      <th></th>\n",
       "      <th>name</th>\n",
       "      <th>platform</th>\n",
       "      <th>year_of_release</th>\n",
       "      <th>genre</th>\n",
       "      <th>na_sales</th>\n",
       "      <th>eu_sales</th>\n",
       "      <th>jp_sales</th>\n",
       "      <th>other_sales</th>\n",
       "      <th>critic_score</th>\n",
       "      <th>user_score</th>\n",
       "      <th>rating</th>\n",
       "    </tr>\n",
       "  </thead>\n",
       "  <tbody>\n",
       "    <tr>\n",
       "      <th>659</th>\n",
       "      <td>0</td>\n",
       "      <td>GEN</td>\n",
       "      <td>1993.0</td>\n",
       "      <td>0</td>\n",
       "      <td>1.78</td>\n",
       "      <td>0.53</td>\n",
       "      <td>0.00</td>\n",
       "      <td>0.08</td>\n",
       "      <td>-1.0</td>\n",
       "      <td>-1</td>\n",
       "      <td>no_rating</td>\n",
       "    </tr>\n",
       "    <tr>\n",
       "      <th>14244</th>\n",
       "      <td>0</td>\n",
       "      <td>GEN</td>\n",
       "      <td>1993.0</td>\n",
       "      <td>0</td>\n",
       "      <td>0.00</td>\n",
       "      <td>0.00</td>\n",
       "      <td>0.03</td>\n",
       "      <td>0.00</td>\n",
       "      <td>-1.0</td>\n",
       "      <td>-1</td>\n",
       "      <td>no_rating</td>\n",
       "    </tr>\n",
       "  </tbody>\n",
       "</table>\n",
       "</div>"
      ],
      "text/plain": [
       "      name platform  year_of_release genre  na_sales  eu_sales  jp_sales  \\\n",
       "659      0      GEN           1993.0     0      1.78      0.53      0.00   \n",
       "14244    0      GEN           1993.0     0      0.00      0.00      0.03   \n",
       "\n",
       "       other_sales  critic_score user_score     rating  \n",
       "659           0.08          -1.0         -1  no_rating  \n",
       "14244         0.00          -1.0         -1  no_rating  "
      ]
     },
     "execution_count": 11,
     "metadata": {},
     "output_type": "execute_result"
    }
   ],
   "source": [
    "df.query('name==0 and genre==0') # создаем срез, где есть пропуски"
   ]
  },
  {
   "cell_type": "markdown",
   "metadata": {},
   "source": [
    "Удалим из датафрейма эти игры"
   ]
  },
  {
   "cell_type": "code",
   "execution_count": 12,
   "metadata": {},
   "outputs": [
    {
     "data": {
      "text/html": [
       "<div>\n",
       "<style scoped>\n",
       "    .dataframe tbody tr th:only-of-type {\n",
       "        vertical-align: middle;\n",
       "    }\n",
       "\n",
       "    .dataframe tbody tr th {\n",
       "        vertical-align: top;\n",
       "    }\n",
       "\n",
       "    .dataframe thead th {\n",
       "        text-align: right;\n",
       "    }\n",
       "</style>\n",
       "<table border=\"1\" class=\"dataframe\">\n",
       "  <thead>\n",
       "    <tr style=\"text-align: right;\">\n",
       "      <th></th>\n",
       "      <th>name</th>\n",
       "      <th>platform</th>\n",
       "      <th>year_of_release</th>\n",
       "      <th>genre</th>\n",
       "      <th>na_sales</th>\n",
       "      <th>eu_sales</th>\n",
       "      <th>jp_sales</th>\n",
       "      <th>other_sales</th>\n",
       "      <th>critic_score</th>\n",
       "      <th>user_score</th>\n",
       "      <th>rating</th>\n",
       "    </tr>\n",
       "  </thead>\n",
       "  <tbody>\n",
       "    <tr>\n",
       "      <th>0</th>\n",
       "      <td>Wii Sports</td>\n",
       "      <td>Wii</td>\n",
       "      <td>2006.0</td>\n",
       "      <td>Sports</td>\n",
       "      <td>41.36</td>\n",
       "      <td>28.96</td>\n",
       "      <td>3.77</td>\n",
       "      <td>8.45</td>\n",
       "      <td>76.0</td>\n",
       "      <td>8</td>\n",
       "      <td>E</td>\n",
       "    </tr>\n",
       "    <tr>\n",
       "      <th>1</th>\n",
       "      <td>Super Mario Bros.</td>\n",
       "      <td>NES</td>\n",
       "      <td>1985.0</td>\n",
       "      <td>Platform</td>\n",
       "      <td>29.08</td>\n",
       "      <td>3.58</td>\n",
       "      <td>6.81</td>\n",
       "      <td>0.77</td>\n",
       "      <td>-1.0</td>\n",
       "      <td>-1</td>\n",
       "      <td>no_rating</td>\n",
       "    </tr>\n",
       "    <tr>\n",
       "      <th>2</th>\n",
       "      <td>Mario Kart Wii</td>\n",
       "      <td>Wii</td>\n",
       "      <td>2008.0</td>\n",
       "      <td>Racing</td>\n",
       "      <td>15.68</td>\n",
       "      <td>12.76</td>\n",
       "      <td>3.79</td>\n",
       "      <td>3.29</td>\n",
       "      <td>82.0</td>\n",
       "      <td>8.3</td>\n",
       "      <td>E</td>\n",
       "    </tr>\n",
       "    <tr>\n",
       "      <th>3</th>\n",
       "      <td>Wii Sports Resort</td>\n",
       "      <td>Wii</td>\n",
       "      <td>2009.0</td>\n",
       "      <td>Sports</td>\n",
       "      <td>15.61</td>\n",
       "      <td>10.93</td>\n",
       "      <td>3.28</td>\n",
       "      <td>2.95</td>\n",
       "      <td>80.0</td>\n",
       "      <td>8</td>\n",
       "      <td>E</td>\n",
       "    </tr>\n",
       "    <tr>\n",
       "      <th>4</th>\n",
       "      <td>Pokemon Red/Pokemon Blue</td>\n",
       "      <td>GB</td>\n",
       "      <td>1996.0</td>\n",
       "      <td>Role-Playing</td>\n",
       "      <td>11.27</td>\n",
       "      <td>8.89</td>\n",
       "      <td>10.22</td>\n",
       "      <td>1.00</td>\n",
       "      <td>-1.0</td>\n",
       "      <td>-1</td>\n",
       "      <td>no_rating</td>\n",
       "    </tr>\n",
       "    <tr>\n",
       "      <th>...</th>\n",
       "      <td>...</td>\n",
       "      <td>...</td>\n",
       "      <td>...</td>\n",
       "      <td>...</td>\n",
       "      <td>...</td>\n",
       "      <td>...</td>\n",
       "      <td>...</td>\n",
       "      <td>...</td>\n",
       "      <td>...</td>\n",
       "      <td>...</td>\n",
       "      <td>...</td>\n",
       "    </tr>\n",
       "    <tr>\n",
       "      <th>16710</th>\n",
       "      <td>Samurai Warriors: Sanada Maru</td>\n",
       "      <td>PS3</td>\n",
       "      <td>2016.0</td>\n",
       "      <td>Action</td>\n",
       "      <td>0.00</td>\n",
       "      <td>0.00</td>\n",
       "      <td>0.01</td>\n",
       "      <td>0.00</td>\n",
       "      <td>-1.0</td>\n",
       "      <td>-1</td>\n",
       "      <td>no_rating</td>\n",
       "    </tr>\n",
       "    <tr>\n",
       "      <th>16711</th>\n",
       "      <td>LMA Manager 2007</td>\n",
       "      <td>X360</td>\n",
       "      <td>2006.0</td>\n",
       "      <td>Sports</td>\n",
       "      <td>0.00</td>\n",
       "      <td>0.01</td>\n",
       "      <td>0.00</td>\n",
       "      <td>0.00</td>\n",
       "      <td>-1.0</td>\n",
       "      <td>-1</td>\n",
       "      <td>no_rating</td>\n",
       "    </tr>\n",
       "    <tr>\n",
       "      <th>16712</th>\n",
       "      <td>Haitaka no Psychedelica</td>\n",
       "      <td>PSV</td>\n",
       "      <td>2016.0</td>\n",
       "      <td>Adventure</td>\n",
       "      <td>0.00</td>\n",
       "      <td>0.00</td>\n",
       "      <td>0.01</td>\n",
       "      <td>0.00</td>\n",
       "      <td>-1.0</td>\n",
       "      <td>-1</td>\n",
       "      <td>no_rating</td>\n",
       "    </tr>\n",
       "    <tr>\n",
       "      <th>16713</th>\n",
       "      <td>Spirits &amp; Spells</td>\n",
       "      <td>GBA</td>\n",
       "      <td>2003.0</td>\n",
       "      <td>Platform</td>\n",
       "      <td>0.01</td>\n",
       "      <td>0.00</td>\n",
       "      <td>0.00</td>\n",
       "      <td>0.00</td>\n",
       "      <td>-1.0</td>\n",
       "      <td>-1</td>\n",
       "      <td>no_rating</td>\n",
       "    </tr>\n",
       "    <tr>\n",
       "      <th>16714</th>\n",
       "      <td>Winning Post 8 2016</td>\n",
       "      <td>PSV</td>\n",
       "      <td>2016.0</td>\n",
       "      <td>Simulation</td>\n",
       "      <td>0.00</td>\n",
       "      <td>0.00</td>\n",
       "      <td>0.01</td>\n",
       "      <td>0.00</td>\n",
       "      <td>-1.0</td>\n",
       "      <td>-1</td>\n",
       "      <td>no_rating</td>\n",
       "    </tr>\n",
       "  </tbody>\n",
       "</table>\n",
       "<p>16713 rows × 11 columns</p>\n",
       "</div>"
      ],
      "text/plain": [
       "                                name platform  year_of_release         genre  \\\n",
       "0                         Wii Sports      Wii           2006.0        Sports   \n",
       "1                  Super Mario Bros.      NES           1985.0      Platform   \n",
       "2                     Mario Kart Wii      Wii           2008.0        Racing   \n",
       "3                  Wii Sports Resort      Wii           2009.0        Sports   \n",
       "4           Pokemon Red/Pokemon Blue       GB           1996.0  Role-Playing   \n",
       "...                              ...      ...              ...           ...   \n",
       "16710  Samurai Warriors: Sanada Maru      PS3           2016.0        Action   \n",
       "16711               LMA Manager 2007     X360           2006.0        Sports   \n",
       "16712        Haitaka no Psychedelica      PSV           2016.0     Adventure   \n",
       "16713               Spirits & Spells      GBA           2003.0      Platform   \n",
       "16714            Winning Post 8 2016      PSV           2016.0    Simulation   \n",
       "\n",
       "       na_sales  eu_sales  jp_sales  other_sales  critic_score user_score  \\\n",
       "0         41.36     28.96      3.77         8.45          76.0          8   \n",
       "1         29.08      3.58      6.81         0.77          -1.0         -1   \n",
       "2         15.68     12.76      3.79         3.29          82.0        8.3   \n",
       "3         15.61     10.93      3.28         2.95          80.0          8   \n",
       "4         11.27      8.89     10.22         1.00          -1.0         -1   \n",
       "...         ...       ...       ...          ...           ...        ...   \n",
       "16710      0.00      0.00      0.01         0.00          -1.0         -1   \n",
       "16711      0.00      0.01      0.00         0.00          -1.0         -1   \n",
       "16712      0.00      0.00      0.01         0.00          -1.0         -1   \n",
       "16713      0.01      0.00      0.00         0.00          -1.0         -1   \n",
       "16714      0.00      0.00      0.01         0.00          -1.0         -1   \n",
       "\n",
       "          rating  \n",
       "0              E  \n",
       "1      no_rating  \n",
       "2              E  \n",
       "3              E  \n",
       "4      no_rating  \n",
       "...          ...  \n",
       "16710  no_rating  \n",
       "16711  no_rating  \n",
       "16712  no_rating  \n",
       "16713  no_rating  \n",
       "16714  no_rating  \n",
       "\n",
       "[16713 rows x 11 columns]"
      ]
     },
     "execution_count": 12,
     "metadata": {},
     "output_type": "execute_result"
    }
   ],
   "source": [
    "df.drop(labels = [659,14244],axis = 0) # удаляем эти игры"
   ]
  },
  {
   "cell_type": "markdown",
   "metadata": {},
   "source": [
    "Посмотрим на уникальные значения в столбце 'user_score'"
   ]
  },
  {
   "cell_type": "code",
   "execution_count": 13,
   "metadata": {},
   "outputs": [
    {
     "data": {
      "text/plain": [
       "-1     6701\n",
       "tbd    2424\n",
       "7.8     324\n",
       "8       290\n",
       "8.2     282\n",
       "       ... \n",
       "1         2\n",
       "1.1       2\n",
       "0.5       2\n",
       "9.7       1\n",
       "0         1\n",
       "Name: user_score, Length: 97, dtype: int64"
      ]
     },
     "execution_count": 13,
     "metadata": {},
     "output_type": "execute_result"
    }
   ],
   "source": [
    "df['user_score'].value_counts() # находим уникальные значения"
   ]
  },
  {
   "cell_type": "markdown",
   "metadata": {},
   "source": [
    "to be done - рейтинга ещё нет, оставляем  это значение"
   ]
  },
  {
   "cell_type": "markdown",
   "metadata": {},
   "source": [
    "Изменяем тип данных"
   ]
  },
  {
   "cell_type": "code",
   "execution_count": 14,
   "metadata": {},
   "outputs": [],
   "source": [
    "df = df.astype({'year_of_release': 'int', 'critic_score': 'int'}) # изменяем тип"
   ]
  },
  {
   "cell_type": "markdown",
   "metadata": {},
   "source": [
    "Проверяем датафрейм на наличие дубликатов"
   ]
  },
  {
   "cell_type": "code",
   "execution_count": 15,
   "metadata": {},
   "outputs": [
    {
     "data": {
      "text/plain": [
       "0"
      ]
     },
     "execution_count": 15,
     "metadata": {},
     "output_type": "execute_result"
    }
   ],
   "source": [
    "df.duplicated().sum() # проверяем на дубликаты датафрейм "
   ]
  },
  {
   "cell_type": "markdown",
   "metadata": {},
   "source": [
    "Посчитаем суммарные продажи во всех регионах и запишем их в отдельный столбец"
   ]
  },
  {
   "cell_type": "code",
   "execution_count": 16,
   "metadata": {},
   "outputs": [],
   "source": [
    "df['total_sales']=df['na_sales'] + df['eu_sales'] + df['jp_sales'] + df['other_sales'] # создаем колонку с общей выручкой "
   ]
  },
  {
   "cell_type": "code",
   "execution_count": 17,
   "metadata": {},
   "outputs": [
    {
     "data": {
      "text/html": [
       "<div>\n",
       "<style scoped>\n",
       "    .dataframe tbody tr th:only-of-type {\n",
       "        vertical-align: middle;\n",
       "    }\n",
       "\n",
       "    .dataframe tbody tr th {\n",
       "        vertical-align: top;\n",
       "    }\n",
       "\n",
       "    .dataframe thead th {\n",
       "        text-align: right;\n",
       "    }\n",
       "</style>\n",
       "<table border=\"1\" class=\"dataframe\">\n",
       "  <thead>\n",
       "    <tr style=\"text-align: right;\">\n",
       "      <th></th>\n",
       "      <th>name</th>\n",
       "      <th>platform</th>\n",
       "      <th>year_of_release</th>\n",
       "      <th>genre</th>\n",
       "      <th>na_sales</th>\n",
       "      <th>eu_sales</th>\n",
       "      <th>jp_sales</th>\n",
       "      <th>other_sales</th>\n",
       "      <th>critic_score</th>\n",
       "      <th>user_score</th>\n",
       "      <th>rating</th>\n",
       "      <th>total_sales</th>\n",
       "    </tr>\n",
       "  </thead>\n",
       "  <tbody>\n",
       "    <tr>\n",
       "      <th>0</th>\n",
       "      <td>Wii Sports</td>\n",
       "      <td>Wii</td>\n",
       "      <td>2006</td>\n",
       "      <td>Sports</td>\n",
       "      <td>41.36</td>\n",
       "      <td>28.96</td>\n",
       "      <td>3.77</td>\n",
       "      <td>8.45</td>\n",
       "      <td>76</td>\n",
       "      <td>8</td>\n",
       "      <td>E</td>\n",
       "      <td>82.54</td>\n",
       "    </tr>\n",
       "    <tr>\n",
       "      <th>1</th>\n",
       "      <td>Super Mario Bros.</td>\n",
       "      <td>NES</td>\n",
       "      <td>1985</td>\n",
       "      <td>Platform</td>\n",
       "      <td>29.08</td>\n",
       "      <td>3.58</td>\n",
       "      <td>6.81</td>\n",
       "      <td>0.77</td>\n",
       "      <td>-1</td>\n",
       "      <td>-1</td>\n",
       "      <td>no_rating</td>\n",
       "      <td>40.24</td>\n",
       "    </tr>\n",
       "    <tr>\n",
       "      <th>2</th>\n",
       "      <td>Mario Kart Wii</td>\n",
       "      <td>Wii</td>\n",
       "      <td>2008</td>\n",
       "      <td>Racing</td>\n",
       "      <td>15.68</td>\n",
       "      <td>12.76</td>\n",
       "      <td>3.79</td>\n",
       "      <td>3.29</td>\n",
       "      <td>82</td>\n",
       "      <td>8.3</td>\n",
       "      <td>E</td>\n",
       "      <td>35.52</td>\n",
       "    </tr>\n",
       "    <tr>\n",
       "      <th>3</th>\n",
       "      <td>Wii Sports Resort</td>\n",
       "      <td>Wii</td>\n",
       "      <td>2009</td>\n",
       "      <td>Sports</td>\n",
       "      <td>15.61</td>\n",
       "      <td>10.93</td>\n",
       "      <td>3.28</td>\n",
       "      <td>2.95</td>\n",
       "      <td>80</td>\n",
       "      <td>8</td>\n",
       "      <td>E</td>\n",
       "      <td>32.77</td>\n",
       "    </tr>\n",
       "    <tr>\n",
       "      <th>4</th>\n",
       "      <td>Pokemon Red/Pokemon Blue</td>\n",
       "      <td>GB</td>\n",
       "      <td>1996</td>\n",
       "      <td>Role-Playing</td>\n",
       "      <td>11.27</td>\n",
       "      <td>8.89</td>\n",
       "      <td>10.22</td>\n",
       "      <td>1.00</td>\n",
       "      <td>-1</td>\n",
       "      <td>-1</td>\n",
       "      <td>no_rating</td>\n",
       "      <td>31.38</td>\n",
       "    </tr>\n",
       "  </tbody>\n",
       "</table>\n",
       "</div>"
      ],
      "text/plain": [
       "                       name platform  year_of_release         genre  na_sales  \\\n",
       "0                Wii Sports      Wii             2006        Sports     41.36   \n",
       "1         Super Mario Bros.      NES             1985      Platform     29.08   \n",
       "2            Mario Kart Wii      Wii             2008        Racing     15.68   \n",
       "3         Wii Sports Resort      Wii             2009        Sports     15.61   \n",
       "4  Pokemon Red/Pokemon Blue       GB             1996  Role-Playing     11.27   \n",
       "\n",
       "   eu_sales  jp_sales  other_sales  critic_score user_score     rating  \\\n",
       "0     28.96      3.77         8.45            76          8          E   \n",
       "1      3.58      6.81         0.77            -1         -1  no_rating   \n",
       "2     12.76      3.79         3.29            82        8.3          E   \n",
       "3     10.93      3.28         2.95            80          8          E   \n",
       "4      8.89     10.22         1.00            -1         -1  no_rating   \n",
       "\n",
       "   total_sales  \n",
       "0        82.54  \n",
       "1        40.24  \n",
       "2        35.52  \n",
       "3        32.77  \n",
       "4        31.38  "
      ]
     },
     "execution_count": 17,
     "metadata": {},
     "output_type": "execute_result"
    }
   ],
   "source": [
    "df.head()  # выводим первые 5 записей"
   ]
  },
  {
   "cell_type": "markdown",
   "metadata": {},
   "source": [
    "## Иследовательский анализ данных"
   ]
  },
  {
   "cell_type": "markdown",
   "metadata": {},
   "source": [
    "Посмотрим, сколько игр выпускалось в разные годы"
   ]
  },
  {
   "cell_type": "code",
   "execution_count": 18,
   "metadata": {},
   "outputs": [
    {
     "data": {
      "text/plain": [
       "Text(0, 0.5, 'Количесвто игр')"
      ]
     },
     "execution_count": 18,
     "metadata": {},
     "output_type": "execute_result"
    },
    {
     "data": {
      "image/png": "[encoded data removed]",
      "text/plain": [
       "<Figure size 1296x432 with 1 Axes>"
      ]
     },
     "metadata": {
      "needs_background": "light"
     },
     "output_type": "display_data"
    }
   ],
   "source": [
    "allyear = df.pivot_table(index='year_of_release', values='name', aggfunc='count')  # создаем сводную  таблицу\n",
    "allyear = allyear.query('year_of_release != 0') # вспоминаем  про заглушку\n",
    "allyear.plot(grid=True, style='o-', figsize=(18,6)) # строим график\n",
    "plt.title('Количество игр за каждый год')\n",
    "plt.xlabel('Год')\n",
    "plt.ylabel('Количесвто игр')"
   ]
  },
  {
   "cell_type": "markdown",
   "metadata": {},
   "source": [
    "На графике мы видим что пик вышедших игр приходится на 2008 и 2009 год. С 1993 года мы видим резский прирост видеоигр."
   ]
  },
  {
   "cell_type": "markdown",
   "metadata": {},
   "source": [
    "Посмотрим, как менялись продажи по платформам. Выберим платформы с наибольшими суммарными продажами и построим распределение по годам"
   ]
  },
  {
   "cell_type": "code",
   "execution_count": 19,
   "metadata": {},
   "outputs": [
    {
     "data": {
      "text/plain": [
       "Text(0.5, 1.0, 'Количество игр для каждой консоли по годам')"
      ]
     },
     "execution_count": 19,
     "metadata": {},
     "output_type": "execute_result"
    },
    {
     "data": {
      "image/png": "[encoded data removed]",
      "text/plain": [
       "<Figure size 1296x720 with 1 Axes>"
      ]
     },
     "metadata": {
      "needs_background": "light"
     },
     "output_type": "display_data"
    }
   ],
   "source": [
    "fig = plt.figure(figsize=(18,10))\n",
    "ax = fig.add_subplot(111)\n",
    "plot_pivot= df.pivot_table( index='year_of_release', columns='platform', values='name', aggfunc='count').query('year_of_release != 0')\n",
    "ax.plot(plot_pivot)\n",
    "ax.legend(plot_pivot.columns)\n",
    "fig.show()\n",
    "plt.title('Количество игр для каждой консоли по годам')"
   ]
  },
  {
   "cell_type": "code",
   "execution_count": 20,
   "metadata": {},
   "outputs": [
    {
     "data": {
      "text/plain": [
       "Text(0.5, 1.0, 'Количество игр для 7ого поколения консолей по годам')"
      ]
     },
     "execution_count": 20,
     "metadata": {},
     "output_type": "execute_result"
    },
    {
     "data": {
      "image/png": "[encoded data removed]",
      "text/plain": [
       "<Figure size 1296x432 with 1 Axes>"
      ]
     },
     "metadata": {
      "needs_background": "light"
     },
     "output_type": "display_data"
    }
   ],
   "source": [
    "fig = plt.figure(figsize=(18,6))\n",
    "ax = fig.add_subplot(111)\n",
    "plot_pivot= df.query('year_of_release != 0 and platform in (\"PC\",\"X360\",\"PS3\",\"Wii\") and year_of_release > 2004').pivot_table( index='year_of_release', columns='platform', values='name', aggfunc='count')\n",
    "ax.plot(plot_pivot)\n",
    "ax.legend(plot_pivot.columns)\n",
    "fig.show()\n",
    "plt.title('Количество игр для 7ого поколения консолей по годам')"
   ]
  },
  {
   "cell_type": "code",
   "execution_count": 21,
   "metadata": {},
   "outputs": [
    {
     "data": {
      "text/plain": [
       "Text(0.5, 1.0, 'Количество игр для 8ого поколения консолей по годам')"
      ]
     },
     "execution_count": 21,
     "metadata": {},
     "output_type": "execute_result"
    },
    {
     "data": {
      "image/png": "[encoded data removed]",
      "text/plain": [
       "<Figure size 1296x432 with 1 Axes>"
      ]
     },
     "metadata": {
      "needs_background": "light"
     },
     "output_type": "display_data"
    }
   ],
   "source": [
    "fig = plt.figure(figsize=(18,6))\n",
    "ax = fig.add_subplot(111)\n",
    "plot_pivot= df.query('year_of_release != 0 and platform in (\"PC\",\"XOne\",\"PS4\",\"WiiU\",\"PSV\") and year_of_release > 2012').pivot_table( index='year_of_release', columns='platform', values='name', aggfunc='count')\n",
    "ax.plot(plot_pivot)\n",
    "ax.legend(plot_pivot.columns)\n",
    "fig.show()\n",
    "plt.title('Количество игр для 8ого поколения консолей по годам')"
   ]
  },
  {
   "cell_type": "code",
   "execution_count": 22,
   "metadata": {},
   "outputs": [
    {
     "data": {
      "text/html": [
       "<div>\n",
       "<style scoped>\n",
       "    .dataframe tbody tr th:only-of-type {\n",
       "        vertical-align: middle;\n",
       "    }\n",
       "\n",
       "    .dataframe tbody tr th {\n",
       "        vertical-align: top;\n",
       "    }\n",
       "\n",
       "    .dataframe thead th {\n",
       "        text-align: right;\n",
       "    }\n",
       "</style>\n",
       "<table border=\"1\" class=\"dataframe\">\n",
       "  <thead>\n",
       "    <tr style=\"text-align: right;\">\n",
       "      <th></th>\n",
       "      <th>name</th>\n",
       "    </tr>\n",
       "    <tr>\n",
       "      <th>platform</th>\n",
       "      <th></th>\n",
       "    </tr>\n",
       "  </thead>\n",
       "  <tbody>\n",
       "    <tr>\n",
       "      <th>PS2</th>\n",
       "      <td>2161</td>\n",
       "    </tr>\n",
       "    <tr>\n",
       "      <th>DS</th>\n",
       "      <td>2151</td>\n",
       "    </tr>\n",
       "    <tr>\n",
       "      <th>PS3</th>\n",
       "      <td>1331</td>\n",
       "    </tr>\n",
       "    <tr>\n",
       "      <th>Wii</th>\n",
       "      <td>1320</td>\n",
       "    </tr>\n",
       "    <tr>\n",
       "      <th>X360</th>\n",
       "      <td>1262</td>\n",
       "    </tr>\n",
       "    <tr>\n",
       "      <th>PSP</th>\n",
       "      <td>1209</td>\n",
       "    </tr>\n",
       "    <tr>\n",
       "      <th>PS</th>\n",
       "      <td>1197</td>\n",
       "    </tr>\n",
       "    <tr>\n",
       "      <th>PC</th>\n",
       "      <td>974</td>\n",
       "    </tr>\n",
       "    <tr>\n",
       "      <th>XB</th>\n",
       "      <td>824</td>\n",
       "    </tr>\n",
       "    <tr>\n",
       "      <th>GBA</th>\n",
       "      <td>822</td>\n",
       "    </tr>\n",
       "  </tbody>\n",
       "</table>\n",
       "</div>"
      ],
      "text/plain": [
       "          name\n",
       "platform      \n",
       "PS2       2161\n",
       "DS        2151\n",
       "PS3       1331\n",
       "Wii       1320\n",
       "X360      1262\n",
       "PSP       1209\n",
       "PS        1197\n",
       "PC         974\n",
       "XB         824\n",
       "GBA        822"
      ]
     },
     "execution_count": 22,
     "metadata": {},
     "output_type": "execute_result"
    }
   ],
   "source": [
    "df.pivot_table(index='platform', values='name', aggfunc='count').sort_values(by='name', ascending=False).head(10) # создаем сводную таблицу по популярным консолям "
   ]
  },
  {
   "cell_type": "markdown",
   "metadata": {},
   "source": [
    "Самая популярная консоль по количесвту игр PS2. Поколение консолей живет примерно 7-8 лет."
   ]
  },
  {
   "cell_type": "markdown",
   "metadata": {},
   "source": [
    "Возьмем данные за соответствующий актуальный период. Актуальным периодом можно считать время, когда вышли консоли нового поколения (PS4, XboxONE, WiiU, PSV)"
   ]
  },
  {
   "cell_type": "code",
   "execution_count": 23,
   "metadata": {},
   "outputs": [],
   "source": [
    "new_df=df.query('year_of_release >= 2015') # создаем срез по актуальным играм "
   ]
  },
  {
   "cell_type": "code",
   "execution_count": 24,
   "metadata": {},
   "outputs": [
    {
     "data": {
      "text/html": [
       "<div>\n",
       "<style scoped>\n",
       "    .dataframe tbody tr th:only-of-type {\n",
       "        vertical-align: middle;\n",
       "    }\n",
       "\n",
       "    .dataframe tbody tr th {\n",
       "        vertical-align: top;\n",
       "    }\n",
       "\n",
       "    .dataframe thead th {\n",
       "        text-align: right;\n",
       "    }\n",
       "</style>\n",
       "<table border=\"1\" class=\"dataframe\">\n",
       "  <thead>\n",
       "    <tr style=\"text-align: right;\">\n",
       "      <th></th>\n",
       "      <th>name</th>\n",
       "      <th>platform</th>\n",
       "      <th>year_of_release</th>\n",
       "      <th>genre</th>\n",
       "      <th>na_sales</th>\n",
       "      <th>eu_sales</th>\n",
       "      <th>jp_sales</th>\n",
       "      <th>other_sales</th>\n",
       "      <th>critic_score</th>\n",
       "      <th>user_score</th>\n",
       "      <th>rating</th>\n",
       "      <th>total_sales</th>\n",
       "    </tr>\n",
       "  </thead>\n",
       "  <tbody>\n",
       "    <tr>\n",
       "      <th>31</th>\n",
       "      <td>Call of Duty: Black Ops 3</td>\n",
       "      <td>PS4</td>\n",
       "      <td>2015</td>\n",
       "      <td>Shooter</td>\n",
       "      <td>6.03</td>\n",
       "      <td>5.86</td>\n",
       "      <td>0.36</td>\n",
       "      <td>2.38</td>\n",
       "      <td>-1</td>\n",
       "      <td>-1</td>\n",
       "      <td>no_rating</td>\n",
       "      <td>14.63</td>\n",
       "    </tr>\n",
       "    <tr>\n",
       "      <th>77</th>\n",
       "      <td>FIFA 16</td>\n",
       "      <td>PS4</td>\n",
       "      <td>2015</td>\n",
       "      <td>Sports</td>\n",
       "      <td>1.12</td>\n",
       "      <td>6.12</td>\n",
       "      <td>0.06</td>\n",
       "      <td>1.28</td>\n",
       "      <td>82</td>\n",
       "      <td>4.3</td>\n",
       "      <td>E</td>\n",
       "      <td>8.58</td>\n",
       "    </tr>\n",
       "    <tr>\n",
       "      <th>87</th>\n",
       "      <td>Star Wars Battlefront (2015)</td>\n",
       "      <td>PS4</td>\n",
       "      <td>2015</td>\n",
       "      <td>Shooter</td>\n",
       "      <td>2.99</td>\n",
       "      <td>3.49</td>\n",
       "      <td>0.22</td>\n",
       "      <td>1.28</td>\n",
       "      <td>-1</td>\n",
       "      <td>-1</td>\n",
       "      <td>no_rating</td>\n",
       "      <td>7.98</td>\n",
       "    </tr>\n",
       "    <tr>\n",
       "      <th>94</th>\n",
       "      <td>FIFA 17</td>\n",
       "      <td>PS4</td>\n",
       "      <td>2016</td>\n",
       "      <td>Sports</td>\n",
       "      <td>0.66</td>\n",
       "      <td>5.75</td>\n",
       "      <td>0.08</td>\n",
       "      <td>1.11</td>\n",
       "      <td>85</td>\n",
       "      <td>5</td>\n",
       "      <td>E</td>\n",
       "      <td>7.60</td>\n",
       "    </tr>\n",
       "    <tr>\n",
       "      <th>99</th>\n",
       "      <td>Call of Duty: Black Ops 3</td>\n",
       "      <td>XOne</td>\n",
       "      <td>2015</td>\n",
       "      <td>Shooter</td>\n",
       "      <td>4.59</td>\n",
       "      <td>2.11</td>\n",
       "      <td>0.01</td>\n",
       "      <td>0.68</td>\n",
       "      <td>-1</td>\n",
       "      <td>-1</td>\n",
       "      <td>no_rating</td>\n",
       "      <td>7.39</td>\n",
       "    </tr>\n",
       "    <tr>\n",
       "      <th>105</th>\n",
       "      <td>Fallout 4</td>\n",
       "      <td>PS4</td>\n",
       "      <td>2015</td>\n",
       "      <td>Role-Playing</td>\n",
       "      <td>2.53</td>\n",
       "      <td>3.27</td>\n",
       "      <td>0.24</td>\n",
       "      <td>1.13</td>\n",
       "      <td>87</td>\n",
       "      <td>6.5</td>\n",
       "      <td>M</td>\n",
       "      <td>7.17</td>\n",
       "    </tr>\n",
       "    <tr>\n",
       "      <th>108</th>\n",
       "      <td>Pokemon Sun/Moon</td>\n",
       "      <td>3DS</td>\n",
       "      <td>2016</td>\n",
       "      <td>Role-Playing</td>\n",
       "      <td>2.98</td>\n",
       "      <td>1.45</td>\n",
       "      <td>2.26</td>\n",
       "      <td>0.45</td>\n",
       "      <td>-1</td>\n",
       "      <td>-1</td>\n",
       "      <td>no_rating</td>\n",
       "      <td>7.14</td>\n",
       "    </tr>\n",
       "    <tr>\n",
       "      <th>171</th>\n",
       "      <td>Uncharted 4: A Thief's End</td>\n",
       "      <td>PS4</td>\n",
       "      <td>2016</td>\n",
       "      <td>Shooter</td>\n",
       "      <td>1.85</td>\n",
       "      <td>2.50</td>\n",
       "      <td>0.19</td>\n",
       "      <td>0.85</td>\n",
       "      <td>93</td>\n",
       "      <td>7.9</td>\n",
       "      <td>T</td>\n",
       "      <td>5.39</td>\n",
       "    </tr>\n",
       "    <tr>\n",
       "      <th>231</th>\n",
       "      <td>Uncharted: The Nathan Drake Collection</td>\n",
       "      <td>PS4</td>\n",
       "      <td>2015</td>\n",
       "      <td>Action</td>\n",
       "      <td>2.07</td>\n",
       "      <td>1.71</td>\n",
       "      <td>0.08</td>\n",
       "      <td>0.76</td>\n",
       "      <td>86</td>\n",
       "      <td>8.1</td>\n",
       "      <td>T</td>\n",
       "      <td>4.62</td>\n",
       "    </tr>\n",
       "    <tr>\n",
       "      <th>242</th>\n",
       "      <td>Halo 5: Guardians</td>\n",
       "      <td>XOne</td>\n",
       "      <td>2015</td>\n",
       "      <td>Shooter</td>\n",
       "      <td>2.78</td>\n",
       "      <td>1.27</td>\n",
       "      <td>0.03</td>\n",
       "      <td>0.41</td>\n",
       "      <td>84</td>\n",
       "      <td>6.4</td>\n",
       "      <td>T</td>\n",
       "      <td>4.49</td>\n",
       "    </tr>\n",
       "  </tbody>\n",
       "</table>\n",
       "</div>"
      ],
      "text/plain": [
       "                                       name platform  year_of_release  \\\n",
       "31                Call of Duty: Black Ops 3      PS4             2015   \n",
       "77                                  FIFA 16      PS4             2015   \n",
       "87             Star Wars Battlefront (2015)      PS4             2015   \n",
       "94                                  FIFA 17      PS4             2016   \n",
       "99                Call of Duty: Black Ops 3     XOne             2015   \n",
       "105                               Fallout 4      PS4             2015   \n",
       "108                        Pokemon Sun/Moon      3DS             2016   \n",
       "171              Uncharted 4: A Thief's End      PS4             2016   \n",
       "231  Uncharted: The Nathan Drake Collection      PS4             2015   \n",
       "242                       Halo 5: Guardians     XOne             2015   \n",
       "\n",
       "            genre  na_sales  eu_sales  jp_sales  other_sales  critic_score  \\\n",
       "31        Shooter      6.03      5.86      0.36         2.38            -1   \n",
       "77         Sports      1.12      6.12      0.06         1.28            82   \n",
       "87        Shooter      2.99      3.49      0.22         1.28            -1   \n",
       "94         Sports      0.66      5.75      0.08         1.11            85   \n",
       "99        Shooter      4.59      2.11      0.01         0.68            -1   \n",
       "105  Role-Playing      2.53      3.27      0.24         1.13            87   \n",
       "108  Role-Playing      2.98      1.45      2.26         0.45            -1   \n",
       "171       Shooter      1.85      2.50      0.19         0.85            93   \n",
       "231        Action      2.07      1.71      0.08         0.76            86   \n",
       "242       Shooter      2.78      1.27      0.03         0.41            84   \n",
       "\n",
       "    user_score     rating  total_sales  \n",
       "31          -1  no_rating        14.63  \n",
       "77         4.3          E         8.58  \n",
       "87          -1  no_rating         7.98  \n",
       "94           5          E         7.60  \n",
       "99          -1  no_rating         7.39  \n",
       "105        6.5          M         7.17  \n",
       "108         -1  no_rating         7.14  \n",
       "171        7.9          T         5.39  \n",
       "231        8.1          T         4.62  \n",
       "242        6.4          T         4.49  "
      ]
     },
     "execution_count": 24,
     "metadata": {},
     "output_type": "execute_result"
    }
   ],
   "source": [
    "new_df.head(10) # выводим  первые 10  записей датафрейма"
   ]
  },
  {
   "cell_type": "markdown",
   "metadata": {},
   "source": [
    "Посмотрим на потенциально прибыльные платфоры после 2012 года"
   ]
  },
  {
   "cell_type": "code",
   "execution_count": 25,
   "metadata": {},
   "outputs": [
    {
     "data": {
      "text/plain": [
       "Text(0.5, 1.0, 'Выручка игр для каждой актуальной консоли по годам')"
      ]
     },
     "execution_count": 25,
     "metadata": {},
     "output_type": "execute_result"
    },
    {
     "data": {
      "image/png": "[encoded data removed]",
      "text/plain": [
       "<Figure size 1296x504 with 1 Axes>"
      ]
     },
     "metadata": {
      "needs_background": "light"
     },
     "output_type": "display_data"
    }
   ],
   "source": [
    "fig = plt.figure(figsize=(18,7))\n",
    "ax = fig.add_subplot(111)\n",
    "plot_pivot= new_df.pivot_table( index='year_of_release', columns='platform', values='total_sales', aggfunc='sum').query('year_of_release != 0')\n",
    "ax.plot(plot_pivot)\n",
    "ax.legend(plot_pivot.columns)\n",
    "fig.show()\n",
    "plt.title('Выручка игр для каждой актуальной консоли по годам')"
   ]
  },
  {
   "cell_type": "markdown",
   "metadata": {},
   "source": [
    "По графику видно, что самой популярной консолью является PS4 и XboxONE. Так же видно что популярность консолей предыдущего поколения падает. Разработчики выпускают все меньше игр на не актуальные консоли"
   ]
  },
  {
   "cell_type": "code",
   "execution_count": 26,
   "metadata": {},
   "outputs": [],
   "source": [
    "new_df = new_df.query('platform in (\"PC\",\"XOne\",\"PS4\",\"WiiU\",\"PSV\")')  # создаем срез по популярным консолям"
   ]
  },
  {
   "cell_type": "markdown",
   "metadata": {},
   "source": [
    "Построим график «ящик с усами» по глобальным продажам игр в разбивке по платформам"
   ]
  },
  {
   "cell_type": "code",
   "execution_count": 27,
   "metadata": {},
   "outputs": [
    {
     "data": {
      "text/plain": [
       "count    809.000000\n",
       "mean       0.395130\n",
       "std        1.040912\n",
       "min        0.010000\n",
       "25%        0.030000\n",
       "50%        0.070000\n",
       "75%        0.280000\n",
       "max       14.630000\n",
       "Name: total_sales, dtype: float64"
      ]
     },
     "execution_count": 27,
     "metadata": {},
     "output_type": "execute_result"
    }
   ],
   "source": [
    "new_df['total_sales'].describe() # выводим информацию столбца   "
   ]
  },
  {
   "cell_type": "code",
   "execution_count": 28,
   "metadata": {},
   "outputs": [
    {
     "data": {
      "text/plain": [
       "(0.0, 2.0)"
      ]
     },
     "execution_count": 28,
     "metadata": {},
     "output_type": "execute_result"
    },
    {
     "data": {
      "image/png": "[encoded data removed]",
      "text/plain": [
       "<Figure size 1296x432 with 1 Axes>"
      ]
     },
     "metadata": {
      "needs_background": "light"
     },
     "output_type": "display_data"
    }
   ],
   "source": [
    "plt.figure(figsize=(18,6))\n",
    "sns.boxplot(data=new_df,  x='platform', y='total_sales')\n",
    "plt.title('Ящик с  усами', fontsize=14)\n",
    "plt.xlabel('Платформа', fontsize=12)\n",
    "plt.ylabel('Продажи', fontsize=12)\n",
    "plt.ylim(0,2)"
   ]
  },
  {
   "cell_type": "markdown",
   "metadata": {},
   "source": [
    "Не удивительно, что PS4 лидирует по популярности среди других консолей"
   ]
  },
  {
   "cell_type": "markdown",
   "metadata": {},
   "source": [
    "Посмотрим, как влияют на продажи внутри одной популярной платформы отзывы пользователей и критиков. Построим диаграмму рассеяния и посчитаем корреляцию между отзывами и продажами"
   ]
  },
  {
   "cell_type": "code",
   "execution_count": 50,
   "metadata": {},
   "outputs": [
    {
     "name": "stderr",
     "output_type": "stream",
     "text": [
      "/tmp/ipykernel_42/3416978602.py:2: SettingWithCopyWarning: \n",
      "A value is trying to be set on a copy of a slice from a DataFrame.\n",
      "Try using .loc[row_indexer,col_indexer] = value instead\n",
      "\n",
      "See the caveats in the documentation: https://pandas.pydata.org/pandas-docs/stable/user_guide/indexing.html#returning-a-view-versus-a-copy\n",
      "  PS4_df['user_score'] = PS4_df['user_score'].astype('float') # переводим тип в float\n",
      "/tmp/ipykernel_42/3416978602.py:3: SettingWithCopyWarning: \n",
      "A value is trying to be set on a copy of a slice from a DataFrame.\n",
      "Try using .loc[row_indexer,col_indexer] = value instead\n",
      "\n",
      "See the caveats in the documentation: https://pandas.pydata.org/pandas-docs/stable/user_guide/indexing.html#returning-a-view-versus-a-copy\n",
      "  PS4_df['user_score'] = PS4_df['user_score'] * 10 # переводим в 100 бальную систему\n"
     ]
    }
   ],
   "source": [
    "PS4_df = new_df.query('platform == \"PS4\" and critic_score != -1 and user_score != -1 and user_score !=\"tbd\"') # делаем срез по самой популярной платформе\n",
    "PS4_df['user_score'] = PS4_df['user_score'].astype('float') # переводим тип в float\n",
    "PS4_df['user_score'] = PS4_df['user_score'] * 10 # переводим в 100 бальную систему"
   ]
  },
  {
   "cell_type": "code",
   "execution_count": 30,
   "metadata": {},
   "outputs": [
    {
     "name": "stdout",
     "output_type": "stream",
     "text": [
      "По идее list_1 не должен меняться, но list_1 = [4, 2, 3]\n",
      "list_1 не изменился, list_1 = [1, 2, 3]\n"
     ]
    }
   ],
   "source": [
    "# Код ревьюера\n",
    "\n",
    "# Вот пример на массивах, но с df похожая ситуация может произойти\n",
    "list_1 = [1, 2, 3]\n",
    "list_2 = list_1\n",
    "list_2[0] = 4\n",
    "\n",
    "print('По идее list_1 не должен меняться, но list_1 =', list_1)\n",
    "\n",
    "list_1 = [1, 2, 3]\n",
    "list_2 = list_1.copy()\n",
    "list_2[0] = 4\n",
    "\n",
    "print('list_1 не изменился, list_1 =', list_1)"
   ]
  },
  {
   "cell_type": "code",
   "execution_count": 31,
   "metadata": {},
   "outputs": [
    {
     "data": {
      "text/plain": [
       "count    182.000000\n",
       "mean      71.945055\n",
       "std       12.686063\n",
       "min       19.000000\n",
       "25%       66.000000\n",
       "50%       73.000000\n",
       "75%       80.000000\n",
       "max       93.000000\n",
       "Name: critic_score, dtype: float64"
      ]
     },
     "execution_count": 31,
     "metadata": {},
     "output_type": "execute_result"
    }
   ],
   "source": [
    "PS4_df['critic_score'].describe() # выводим информацию столбца"
   ]
  },
  {
   "cell_type": "code",
   "execution_count": 32,
   "metadata": {},
   "outputs": [
    {
     "data": {
      "text/plain": [
       "count    182.000000\n",
       "mean      68.587912\n",
       "std       14.621579\n",
       "min       15.000000\n",
       "25%       63.000000\n",
       "50%       71.500000\n",
       "75%       79.000000\n",
       "max       92.000000\n",
       "Name: user_score, dtype: float64"
      ]
     },
     "execution_count": 32,
     "metadata": {},
     "output_type": "execute_result"
    }
   ],
   "source": [
    "PS4_df['user_score'].describe() # выводим информацию столбца"
   ]
  },
  {
   "cell_type": "code",
   "execution_count": 33,
   "metadata": {},
   "outputs": [
    {
     "data": {
      "text/plain": [
       "Text(0, 0.5, 'Оценки  пользователей')"
      ]
     },
     "execution_count": 33,
     "metadata": {},
     "output_type": "execute_result"
    },
    {
     "data": {
      "image/png": "[encoded data removed]",
      "text/plain": [
       "<Figure size 432x288 with 1 Axes>"
      ]
     },
     "metadata": {
      "needs_background": "light"
     },
     "output_type": "display_data"
    }
   ],
   "source": [
    "PS4_df.plot(x='critic_score', y='user_score', kind='scatter', alpha=0.3) # строим график рассеяния     \n",
    "plt.title('Диаграмма рассеяния')\n",
    "plt.xlabel('Оценки критиков')\n",
    "plt.ylabel('Оценки  пользователей')"
   ]
  },
  {
   "cell_type": "markdown",
   "metadata": {},
   "source": [
    "Оценки критиков и пользователей в основном похожи"
   ]
  },
  {
   "cell_type": "code",
   "execution_count": 34,
   "metadata": {},
   "outputs": [
    {
     "data": {
      "text/plain": [
       "0.533329910291185"
      ]
     },
     "execution_count": 34,
     "metadata": {},
     "output_type": "execute_result"
    }
   ],
   "source": [
    "PS4_df['user_score'].corr(PS4_df['critic_score']) # находим корреляцию "
   ]
  },
  {
   "cell_type": "code",
   "execution_count": 35,
   "metadata": {},
   "outputs": [
    {
     "data": {
      "text/plain": [
       "-0.06436843081030282"
      ]
     },
     "execution_count": 35,
     "metadata": {},
     "output_type": "execute_result"
    }
   ],
   "source": [
    "PS4_df['user_score'].corr(PS4_df['total_sales']) # находим корреляцию"
   ]
  },
  {
   "cell_type": "code",
   "execution_count": 36,
   "metadata": {},
   "outputs": [
    {
     "data": {
      "text/plain": [
       "0.39207413696605703"
      ]
     },
     "execution_count": 36,
     "metadata": {},
     "output_type": "execute_result"
    }
   ],
   "source": [
    "PS4_df['critic_score'].corr(PS4_df['total_sales']) # находим корреляцию"
   ]
  },
  {
   "cell_type": "code",
   "execution_count": 37,
   "metadata": {},
   "outputs": [
    {
     "data": {
      "text/plain": [
       "Text(0, 0.5, 'Общие продажи')"
      ]
     },
     "execution_count": 37,
     "metadata": {},
     "output_type": "execute_result"
    },
    {
     "data": {
      "image/png": "[encoded data removed]",
      "text/plain": [
       "<Figure size 432x288 with 1 Axes>"
      ]
     },
     "metadata": {
      "needs_background": "light"
     },
     "output_type": "display_data"
    }
   ],
   "source": [
    "PS4_df.plot(x='critic_score', y='total_sales', kind='scatter', alpha=0.3) # строим график рассеяния     \n",
    "plt.title('Диаграмма рассеяния')\n",
    "plt.xlabel('Оценки критиков')\n",
    "plt.ylabel('Общие продажи')"
   ]
  },
  {
   "cell_type": "markdown",
   "metadata": {},
   "source": [
    "Оценка сильно коррелирует с продажами на PS4"
   ]
  },
  {
   "cell_type": "code",
   "execution_count": 38,
   "metadata": {},
   "outputs": [],
   "source": [
    "new_df = new_df.query('critic_score != -1 and user_score != -1 and user_score !=\"tbd\"') # делаем срез по оценкам\n",
    "new_df['user_score'] = new_df['user_score'].astype('float') # преобразуем в тип float  \n",
    "new_df['user_score'] = new_df['user_score'] * 10 # домнажаем, чтобы оценка была по 100 бальной шкале"
   ]
  },
  {
   "cell_type": "code",
   "execution_count": 39,
   "metadata": {},
   "outputs": [
    {
     "data": {
      "text/plain": [
       "0.32799870943764853"
      ]
     },
     "execution_count": 39,
     "metadata": {},
     "output_type": "execute_result"
    }
   ],
   "source": [
    "new_df['critic_score'].corr(new_df['total_sales']) # находим корреляцию"
   ]
  },
  {
   "cell_type": "code",
   "execution_count": 40,
   "metadata": {},
   "outputs": [
    {
     "data": {
      "text/plain": [
       "-0.0190584326743259"
      ]
     },
     "execution_count": 40,
     "metadata": {},
     "output_type": "execute_result"
    }
   ],
   "source": [
    "new_df['user_score'].corr(new_df['total_sales']) # находим корреляцию"
   ]
  },
  {
   "cell_type": "code",
   "execution_count": 41,
   "metadata": {},
   "outputs": [
    {
     "data": {
      "text/plain": [
       "Text(0, 0.5, 'Общие продажи')"
      ]
     },
     "execution_count": 41,
     "metadata": {},
     "output_type": "execute_result"
    },
    {
     "data": {
      "image/png": "[encoded data removed]",
      "text/plain": [
       "<Figure size 432x288 with 1 Axes>"
      ]
     },
     "metadata": {
      "needs_background": "light"
     },
     "output_type": "display_data"
    }
   ],
   "source": [
    "new_df.plot(x='critic_score', y='total_sales', kind='scatter', alpha=0.3) # строим график рассеяния     \n",
    "plt.title('Диаграмма рассеяния')\n",
    "plt.xlabel('Оценки критиков')\n",
    "plt.ylabel('Общие продажи')"
   ]
  },
  {
   "cell_type": "markdown",
   "metadata": {},
   "source": [
    "Действительно, продажи игр сильно зависят от оценок критиков не зависимо от консоли"
   ]
  },
  {
   "cell_type": "markdown",
   "metadata": {},
   "source": [
    "Рассмотрим общее распределение игр по жанрам"
   ]
  },
  {
   "cell_type": "code",
   "execution_count": 42,
   "metadata": {},
   "outputs": [
    {
     "data": {
      "text/html": [
       "<div>\n",
       "<style scoped>\n",
       "    .dataframe tbody tr th:only-of-type {\n",
       "        vertical-align: middle;\n",
       "    }\n",
       "\n",
       "    .dataframe tbody tr th {\n",
       "        vertical-align: top;\n",
       "    }\n",
       "\n",
       "    .dataframe thead th {\n",
       "        text-align: right;\n",
       "    }\n",
       "</style>\n",
       "<table border=\"1\" class=\"dataframe\">\n",
       "  <thead>\n",
       "    <tr style=\"text-align: right;\">\n",
       "      <th></th>\n",
       "      <th>total_sales</th>\n",
       "    </tr>\n",
       "    <tr>\n",
       "      <th>genre</th>\n",
       "      <th></th>\n",
       "    </tr>\n",
       "  </thead>\n",
       "  <tbody>\n",
       "    <tr>\n",
       "      <th>Shooter</th>\n",
       "      <td>0.455</td>\n",
       "    </tr>\n",
       "    <tr>\n",
       "      <th>Misc</th>\n",
       "      <td>0.360</td>\n",
       "    </tr>\n",
       "    <tr>\n",
       "      <th>Sports</th>\n",
       "      <td>0.300</td>\n",
       "    </tr>\n",
       "    <tr>\n",
       "      <th>Fighting</th>\n",
       "      <td>0.180</td>\n",
       "    </tr>\n",
       "    <tr>\n",
       "      <th>Role-Playing</th>\n",
       "      <td>0.160</td>\n",
       "    </tr>\n",
       "    <tr>\n",
       "      <th>Action</th>\n",
       "      <td>0.140</td>\n",
       "    </tr>\n",
       "    <tr>\n",
       "      <th>Simulation</th>\n",
       "      <td>0.110</td>\n",
       "    </tr>\n",
       "    <tr>\n",
       "      <th>Platform</th>\n",
       "      <td>0.100</td>\n",
       "    </tr>\n",
       "    <tr>\n",
       "      <th>Strategy</th>\n",
       "      <td>0.080</td>\n",
       "    </tr>\n",
       "    <tr>\n",
       "      <th>Racing</th>\n",
       "      <td>0.070</td>\n",
       "    </tr>\n",
       "    <tr>\n",
       "      <th>Adventure</th>\n",
       "      <td>0.050</td>\n",
       "    </tr>\n",
       "    <tr>\n",
       "      <th>Puzzle</th>\n",
       "      <td>0.015</td>\n",
       "    </tr>\n",
       "  </tbody>\n",
       "</table>\n",
       "</div>"
      ],
      "text/plain": [
       "              total_sales\n",
       "genre                    \n",
       "Shooter             0.455\n",
       "Misc                0.360\n",
       "Sports              0.300\n",
       "Fighting            0.180\n",
       "Role-Playing        0.160\n",
       "Action              0.140\n",
       "Simulation          0.110\n",
       "Platform            0.100\n",
       "Strategy            0.080\n",
       "Racing              0.070\n",
       "Adventure           0.050\n",
       "Puzzle              0.015"
      ]
     },
     "execution_count": 42,
     "metadata": {},
     "output_type": "execute_result"
    }
   ],
   "source": [
    "top_genre = new_df.pivot_table(index='genre', values='total_sales', aggfunc='median').sort_values(by='total_sales', ascending=False) # создаем сводную таблицу по популярным жанрам\n",
    "top_genre"
   ]
  },
  {
   "cell_type": "code",
   "execution_count": 43,
   "metadata": {},
   "outputs": [
    {
     "data": {
      "text/plain": [
       "Text(0, 0.5, 'Общая выручка')"
      ]
     },
     "execution_count": 43,
     "metadata": {},
     "output_type": "execute_result"
    },
    {
     "data": {
      "image/png": "[encoded data removed]",
      "text/plain": [
       "<Figure size 432x288 with 1 Axes>"
      ]
     },
     "metadata": {
      "needs_background": "light"
     },
     "output_type": "display_data"
    }
   ],
   "source": [
    "top_genre.plot(kind='bar')\n",
    "plt.title('Самые прибыльные жанры')\n",
    "plt.xlabel('Жанры')\n",
    "plt.ylabel('Общая выручка')"
   ]
  },
  {
   "cell_type": "markdown",
   "metadata": {},
   "source": [
    "Экшены и шутеры самые популярные и прибыльные жанры. Не просто так Activision Blizzard выпускает каждый год новую серию Call of Duty. Самый не популярный жанр Puzzle, не удивительно"
   ]
  },
  {
   "cell_type": "markdown",
   "metadata": {},
   "source": [
    "## Составим портрет пользователя каждого региона"
   ]
  },
  {
   "cell_type": "markdown",
   "metadata": {},
   "source": [
    "Рассмотрим самые прибыльные жанры в зависимости от региона"
   ]
  },
  {
   "cell_type": "code",
   "execution_count": 44,
   "metadata": {},
   "outputs": [
    {
     "data": {
      "text/plain": [
       "Text(0, 0.5, 'Общая выручка')"
      ]
     },
     "execution_count": 44,
     "metadata": {},
     "output_type": "execute_result"
    },
    {
     "data": {
      "image/png": "[encoded data removed]",
      "text/plain": [
       "<Figure size 432x288 with 1 Axes>"
      ]
     },
     "metadata": {
      "needs_background": "light"
     },
     "output_type": "display_data"
    },
    {
     "data": {
      "image/png": "[encoded data removed]",
      "text/plain": [
       "<Figure size 432x288 with 1 Axes>"
      ]
     },
     "metadata": {
      "needs_background": "light"
     },
     "output_type": "display_data"
    },
    {
     "data": {
      "image/png": "[encoded data removed]",
      "text/plain": [
       "<Figure size 432x288 with 1 Axes>"
      ]
     },
     "metadata": {
      "needs_background": "light"
     },
     "output_type": "display_data"
    }
   ],
   "source": [
    "new_df.pivot_table(index='genre', values='na_sales', aggfunc='sum').sort_values(by='na_sales', ascending=False).head().plot(kind='bar')\n",
    "plt.title('Самые прибыльные жанры в Северной Америке')\n",
    "plt.xlabel('Жанры')\n",
    "plt.ylabel('Общая выручка')\n",
    "new_df.pivot_table(index='genre', values='eu_sales', aggfunc='sum').sort_values(by='eu_sales', ascending=False).head().plot(kind='bar')\n",
    "plt.title('Самые прибыльные жанры в Европе')\n",
    "plt.xlabel('Жанры')\n",
    "plt.ylabel('Общая выручка')\n",
    "new_df.pivot_table(index='genre', values='jp_sales', aggfunc='sum').sort_values(by='jp_sales', ascending=False).head().plot(kind='bar')\n",
    "plt.title('Самые прибыльные жанры в Японии')\n",
    "plt.xlabel('Жанры')\n",
    "plt.ylabel('Общая выручка')"
   ]
  },
  {
   "cell_type": "markdown",
   "metadata": {},
   "source": [
    "Экшены и шутеры в каждом регионе популярны, в Японии отдают заметно больше предпочтения ролевым играм"
   ]
  },
  {
   "cell_type": "markdown",
   "metadata": {},
   "source": [
    "Рассмотрим самые прибыльные жанры в зависимости от региона"
   ]
  },
  {
   "cell_type": "code",
   "execution_count": 45,
   "metadata": {},
   "outputs": [
    {
     "data": {
      "text/plain": [
       "Text(0, 0.5, 'Общая выручка')"
      ]
     },
     "execution_count": 45,
     "metadata": {},
     "output_type": "execute_result"
    },
    {
     "data": {
      "image/png": "[encoded data removed]",
      "text/plain": [
       "<Figure size 432x288 with 1 Axes>"
      ]
     },
     "metadata": {
      "needs_background": "light"
     },
     "output_type": "display_data"
    },
    {
     "data": {
      "image/png": "[encoded data removed]",
      "text/plain": [
       "<Figure size 432x288 with 1 Axes>"
      ]
     },
     "metadata": {
      "needs_background": "light"
     },
     "output_type": "display_data"
    },
    {
     "data": {
      "image/png": "[encoded data removed]",
      "text/plain": [
       "<Figure size 432x288 with 1 Axes>"
      ]
     },
     "metadata": {
      "needs_background": "light"
     },
     "output_type": "display_data"
    }
   ],
   "source": [
    "new_df.pivot_table(index='platform', values='na_sales', aggfunc='sum').sort_values(by='na_sales', ascending=False).head().plot(kind='bar')\n",
    "plt.title('Самые прибыльные платформы в Северной Америке')\n",
    "plt.xlabel('Платформы')\n",
    "plt.ylabel('Общая выручка')\n",
    "new_df.pivot_table(index='platform', values='eu_sales', aggfunc='sum').sort_values(by='eu_sales', ascending=False).head().plot(kind='bar')\n",
    "plt.title('Самые прибыльные платформы в Европе')\n",
    "plt.xlabel('Платформы')\n",
    "plt.ylabel('Общая выручка')\n",
    "new_df.pivot_table(index='platform', values='jp_sales', aggfunc='sum').sort_values(by='jp_sales', ascending=False).head().plot(kind='bar')\n",
    "plt.title('Самые прибыльные платформы в Японии')\n",
    "plt.xlabel('Платформы')\n",
    "plt.ylabel('Общая выручка')"
   ]
  },
  {
   "cell_type": "markdown",
   "metadata": {},
   "source": [
    "В каждом регионе самой  популярной консолью является playstation 4. В Штатах очень популярен XboxOne, а в Японии Nintendo WIIU"
   ]
  },
  {
   "cell_type": "markdown",
   "metadata": {},
   "source": [
    "Рассмотрим самые популярные рейтинги в зависимости от региона"
   ]
  },
  {
   "cell_type": "code",
   "execution_count": 46,
   "metadata": {},
   "outputs": [
    {
     "data": {
      "text/plain": [
       "Text(0, 0.5, 'Общая выручка')"
      ]
     },
     "execution_count": 46,
     "metadata": {},
     "output_type": "execute_result"
    },
    {
     "data": {
      "image/png": "[encoded data removed]",
      "text/plain": [
       "<Figure size 432x288 with 1 Axes>"
      ]
     },
     "metadata": {
      "needs_background": "light"
     },
     "output_type": "display_data"
    },
    {
     "data": {
      "image/png": "[encoded data removed]",
      "text/plain": [
       "<Figure size 432x288 with 1 Axes>"
      ]
     },
     "metadata": {
      "needs_background": "light"
     },
     "output_type": "display_data"
    },
    {
     "data": {
      "image/png": "[encoded data removed]",
      "text/plain": [
       "<Figure size 432x288 with 1 Axes>"
      ]
     },
     "metadata": {
      "needs_background": "light"
     },
     "output_type": "display_data"
    }
   ],
   "source": [
    "new_df.query('rating != \"no_rating\"').pivot_table(index='rating', values='na_sales', aggfunc='sum').sort_values(by='na_sales', ascending=False).plot(kind='bar')\n",
    "plt.title('Самые популярные рейтинги в Северной Америке')\n",
    "plt.xlabel('Рейтинг')\n",
    "plt.ylabel('Общая выручка')\n",
    "new_df.query('rating != \"no_rating\"').pivot_table(index='rating', values='eu_sales', aggfunc='sum').sort_values(by='eu_sales', ascending=False).plot(kind='bar')\n",
    "plt.title('Самые популярные рейтинги в Европе')\n",
    "plt.xlabel('Рейтинг')\n",
    "plt.ylabel('Общая выручка')\n",
    "new_df.query('rating != \"no_rating\"').pivot_table(index='rating', values='jp_sales', aggfunc='sum').sort_values(by='jp_sales', ascending=False).plot(kind='bar')\n",
    "plt.title('Самые популярные рейтинги в Японии')\n",
    "plt.xlabel('Рейтинг')\n",
    "plt.ylabel('Общая выручка')"
   ]
  },
  {
   "cell_type": "markdown",
   "metadata": {},
   "source": [
    "Европейский и Северо Американский рынок очень похожи, а вот Япония отличается от других в зависимости от рейтинга. В Японии видимо более молодая аудитория, там лидирует рейтинг Teen"
   ]
  },
  {
   "cell_type": "markdown",
   "metadata": {},
   "source": [
    "## Проверим гипотезы "
   ]
  },
  {
   "cell_type": "markdown",
   "metadata": {},
   "source": [
    "Средние пользовательские рейтинги платформ Xbox One и PC одинаковые. Нулевая гипотеза: средний пользовательский рейтинг для платформы Xbox One и PC равны. Альтернативная гипотеза: средний пользовательский рейтинг для платформы Xbox One и PC не равны. Используем для двух генеральных совокупностей st.ttest_ind"
   ]
  },
  {
   "cell_type": "code",
   "execution_count": 47,
   "metadata": {},
   "outputs": [
    {
     "name": "stdout",
     "output_type": "stream",
     "text": [
      "p-значение: 0.34313383886279314\n",
      "Не получилось отвергнуть нулевую гипотезу\n"
     ]
    }
   ],
   "source": [
    "xbox = new_df.query('platform == \"XOne\"') # Задаем срез для xbox\n",
    "pc = new_df.query('platform == \"PC\"') # Задаем срез для PC \n",
    "alpha = 0.05 # задаем критический уровень статистической значимости\n",
    "\n",
    "result_fist = st.ttest_ind(xbox['user_score'], pc['user_score'], equal_var=False)\n",
    "\n",
    "print('p-значение:', result_fist.pvalue) # выведите на экран полученное p-значение)\n",
    "\n",
    "if result_fist.pvalue < alpha:# сравните p-значение с заданным критическим уровнем стат. значимости:\n",
    "    print(\"Отвергаем нулевую гипотезу\")\n",
    "else:\n",
    "    print(\"Не получилось отвергнуть нулевую гипотезу\")"
   ]
  },
  {
   "cell_type": "markdown",
   "metadata": {},
   "source": [
    "Действительно, средний пользовательский рейтинг на платформах Xbox One и PC очень похож друг на друга"
   ]
  },
  {
   "cell_type": "markdown",
   "metadata": {},
   "source": [
    "Средние пользовательские рейтинги жанров Action (англ. «действие», экшен-игры) и Sports (англ. «спортивные соревнования») разные. Нулевая гипотеза: средний пользовательский рейтинг жанров Action и Sports равны. Альтернативная гипотеза: средний пользовательский рейтинг жанров Action и Sports не равны. Используем для двух генеральных совокупностей st.ttest_ind"
   ]
  },
  {
   "cell_type": "code",
   "execution_count": 48,
   "metadata": {},
   "outputs": [
    {
     "name": "stdout",
     "output_type": "stream",
     "text": [
      "p-значение: 1.1072621953343472e-05\n",
      "Отвергаем нулевую гипотезу\n"
     ]
    }
   ],
   "source": [
    "action = new_df.query('genre == \"Action\"') # Задаем срез для action\n",
    "sports = new_df.query('genre == \"Sports\"') # Задаем срез для sports \n",
    "alpha = 0.05 # задаем критический уровень статистической значимости\n",
    "\n",
    "result_fist = st.ttest_ind(action['user_score'], sports['user_score'], equal_var=False)\n",
    "\n",
    "print('p-значение:', result_fist.pvalue) # выведите на экран полученное p-значение)\n",
    "\n",
    "if result_fist.pvalue < alpha:# сравните p-значение с заданным критическим уровнем стат. значимости:\n",
    "    print(\"Отвергаем нулевую гипотезу\")\n",
    "else:\n",
    "    print(\"Не получилось отвергнуть нулевую гипотезу\")"
   ]
  },
  {
   "cell_type": "markdown",
   "metadata": {},
   "source": [
    "А вот у жанров Action и Sports среднепользовательский рейтинг сильно отличается друг от друга"
   ]
  },
  {
   "cell_type": "markdown",
   "metadata": {},
   "source": [
    "##  Общий вывод"
   ]
  },
  {
   "cell_type": "markdown",
   "metadata": {},
   "source": [
    "Мы провели большую работу по анализу данных видеоигр. Посмотрели как изменялась игровая индустрия  за последние 35 лет: как консоли прихоли и уходили с рынка,  какую  выручку приносила  эта  индустрия с течением времени. Нам получилось выявить самые популярные жанры, консоли, рейтинги  в  зависимости   от региона. Расмотрели как оценки критиков и пользователей влияют  на  продажи игр и коррелируют между  собой. А так же мы проверили 2 гипотезы. Из всего этого мы выявили следующую закономерность, которая нам поможет провести  хорошую рекламную кампанию в 2017 году: нужно делать акцент на видеоигры в жанре Action либо Shooter, с рейтингом M, выпускаемые на самых популярных платформах: PS4, XOne, PC. "
   ]
  }
 ],
 "metadata": {
  "ExecuteTimeLog": [
   {
    "duration": 1463,
    "start_time": "2022-04-04T05:51:44.635Z"
   },
   {
    "duration": 13,
    "start_time": "2022-04-04T05:51:46.750Z"
   },
   {
    "duration": 44,
    "start_time": "2022-04-04T05:52:12.011Z"
   },
   {
    "duration": 15,
    "start_time": "2022-04-04T05:52:14.457Z"
   },
   {
    "duration": 20,
    "start_time": "2022-04-04T05:53:58.716Z"
   },
   {
    "duration": 7,
    "start_time": "2022-04-04T06:02:08.799Z"
   },
   {
    "duration": 11,
    "start_time": "2022-04-04T06:02:51.207Z"
   },
   {
    "duration": 5,
    "start_time": "2022-04-04T06:03:26.401Z"
   },
   {
    "duration": 7,
    "start_time": "2022-04-04T06:04:24.196Z"
   },
   {
    "duration": 5,
    "start_time": "2022-04-04T06:04:58.351Z"
   },
   {
    "duration": 7,
    "start_time": "2022-04-04T06:05:09.438Z"
   },
   {
    "duration": 103,
    "start_time": "2022-04-04T06:10:57.630Z"
   },
   {
    "duration": 10,
    "start_time": "2022-04-04T06:11:06.625Z"
   },
   {
    "duration": 12,
    "start_time": "2022-04-04T06:11:44.746Z"
   },
   {
    "duration": 0,
    "start_time": "2022-04-04T06:12:04.874Z"
   },
   {
    "duration": 23,
    "start_time": "2022-04-04T06:12:12.590Z"
   },
   {
    "duration": 12,
    "start_time": "2022-04-04T06:12:34.166Z"
   },
   {
    "duration": 12,
    "start_time": "2022-04-04T06:12:36.672Z"
   },
   {
    "duration": 11,
    "start_time": "2022-04-04T06:13:13.804Z"
   },
   {
    "duration": 20,
    "start_time": "2022-04-04T06:14:12.052Z"
   },
   {
    "duration": 14,
    "start_time": "2022-04-04T06:14:29.856Z"
   },
   {
    "duration": 5,
    "start_time": "2022-04-04T06:19:37.466Z"
   },
   {
    "duration": 15,
    "start_time": "2022-04-04T06:19:51.124Z"
   },
   {
    "duration": 5,
    "start_time": "2022-04-04T06:20:00.735Z"
   },
   {
    "duration": 15,
    "start_time": "2022-04-04T06:20:06.008Z"
   },
   {
    "duration": 3,
    "start_time": "2022-04-04T06:20:18.302Z"
   },
   {
    "duration": 8,
    "start_time": "2022-04-04T06:20:20.678Z"
   },
   {
    "duration": 8,
    "start_time": "2022-04-04T06:20:30.936Z"
   },
   {
    "duration": 54,
    "start_time": "2022-04-04T06:20:38.377Z"
   },
   {
    "duration": 16,
    "start_time": "2022-04-04T06:20:38.433Z"
   },
   {
    "duration": 16,
    "start_time": "2022-04-04T06:20:38.450Z"
   },
   {
    "duration": 7,
    "start_time": "2022-04-04T06:20:38.468Z"
   },
   {
    "duration": 17,
    "start_time": "2022-04-04T06:20:38.476Z"
   },
   {
    "duration": 9,
    "start_time": "2022-04-04T06:21:47.088Z"
   },
   {
    "duration": 9,
    "start_time": "2022-04-04T06:21:57.502Z"
   },
   {
    "duration": 9,
    "start_time": "2022-04-04T06:22:48.613Z"
   },
   {
    "duration": 8,
    "start_time": "2022-04-04T06:24:42.176Z"
   },
   {
    "duration": 8,
    "start_time": "2022-04-04T06:24:47.606Z"
   },
   {
    "duration": 14,
    "start_time": "2022-04-04T06:24:48.732Z"
   },
   {
    "duration": 8,
    "start_time": "2022-04-04T06:24:59.360Z"
   },
   {
    "duration": 3,
    "start_time": "2022-04-04T06:25:08.704Z"
   },
   {
    "duration": 8,
    "start_time": "2022-04-04T06:25:14.540Z"
   },
   {
    "duration": 8,
    "start_time": "2022-04-04T06:25:16.300Z"
   },
   {
    "duration": 9,
    "start_time": "2022-04-04T06:25:31.921Z"
   },
   {
    "duration": 9,
    "start_time": "2022-04-04T06:25:35.265Z"
   },
   {
    "duration": 10,
    "start_time": "2022-04-04T06:25:36.345Z"
   },
   {
    "duration": 52,
    "start_time": "2022-04-04T06:25:38.774Z"
   },
   {
    "duration": 15,
    "start_time": "2022-04-04T06:25:38.828Z"
   },
   {
    "duration": 17,
    "start_time": "2022-04-04T06:25:38.845Z"
   },
   {
    "duration": 8,
    "start_time": "2022-04-04T06:25:38.864Z"
   },
   {
    "duration": 18,
    "start_time": "2022-04-04T06:25:38.873Z"
   },
   {
    "duration": 4,
    "start_time": "2022-04-04T06:25:46.931Z"
   },
   {
    "duration": 8,
    "start_time": "2022-04-04T06:25:48.872Z"
   },
   {
    "duration": 43,
    "start_time": "2022-04-04T06:25:51.849Z"
   },
   {
    "duration": 15,
    "start_time": "2022-04-04T06:25:51.894Z"
   },
   {
    "duration": 22,
    "start_time": "2022-04-04T06:25:51.910Z"
   },
   {
    "duration": 7,
    "start_time": "2022-04-04T06:25:51.935Z"
   },
   {
    "duration": 13,
    "start_time": "2022-04-04T06:25:51.944Z"
   },
   {
    "duration": 9,
    "start_time": "2022-04-04T06:26:02.010Z"
   },
   {
    "duration": 8,
    "start_time": "2022-04-04T06:27:26.210Z"
   },
   {
    "duration": 8,
    "start_time": "2022-04-04T06:27:30.669Z"
   },
   {
    "duration": 10,
    "start_time": "2022-04-04T06:27:34.171Z"
   },
   {
    "duration": 42,
    "start_time": "2022-04-04T06:27:38.950Z"
   },
   {
    "duration": 16,
    "start_time": "2022-04-04T06:27:42.003Z"
   },
   {
    "duration": 17,
    "start_time": "2022-04-04T06:27:45.436Z"
   },
   {
    "duration": 4,
    "start_time": "2022-04-04T06:27:48.406Z"
   },
   {
    "duration": 15,
    "start_time": "2022-04-04T06:27:52.668Z"
   },
   {
    "duration": 3,
    "start_time": "2022-04-04T06:28:02.129Z"
   },
   {
    "duration": 8,
    "start_time": "2022-04-04T06:28:04.382Z"
   },
   {
    "duration": 53,
    "start_time": "2022-04-04T06:28:06.780Z"
   },
   {
    "duration": 15,
    "start_time": "2022-04-04T06:28:06.835Z"
   },
   {
    "duration": 17,
    "start_time": "2022-04-04T06:28:06.852Z"
   },
   {
    "duration": 7,
    "start_time": "2022-04-04T06:28:06.871Z"
   },
   {
    "duration": 12,
    "start_time": "2022-04-04T06:28:06.879Z"
   },
   {
    "duration": 9,
    "start_time": "2022-04-04T06:28:20.759Z"
   },
   {
    "duration": 9,
    "start_time": "2022-04-04T06:28:26.648Z"
   },
   {
    "duration": 8,
    "start_time": "2022-04-04T06:29:22.353Z"
   },
   {
    "duration": 10,
    "start_time": "2022-04-04T06:29:30.299Z"
   },
   {
    "duration": 10,
    "start_time": "2022-04-04T06:29:31.855Z"
   },
   {
    "duration": 9,
    "start_time": "2022-04-04T06:29:33.810Z"
   },
   {
    "duration": 42,
    "start_time": "2022-04-04T06:29:35.778Z"
   },
   {
    "duration": 16,
    "start_time": "2022-04-04T06:29:35.822Z"
   },
   {
    "duration": 18,
    "start_time": "2022-04-04T06:29:35.840Z"
   },
   {
    "duration": 6,
    "start_time": "2022-04-04T06:29:35.860Z"
   },
   {
    "duration": 16,
    "start_time": "2022-04-04T06:29:35.868Z"
   },
   {
    "duration": 9,
    "start_time": "2022-04-04T06:31:25.432Z"
   },
   {
    "duration": 5,
    "start_time": "2022-04-04T06:31:35.450Z"
   },
   {
    "duration": 3,
    "start_time": "2022-04-04T06:32:02.897Z"
   },
   {
    "duration": 3,
    "start_time": "2022-04-04T06:32:05.586Z"
   },
   {
    "duration": 15,
    "start_time": "2022-04-04T06:32:07.536Z"
   },
   {
    "duration": 4,
    "start_time": "2022-04-04T06:32:28.293Z"
   },
   {
    "duration": 17,
    "start_time": "2022-04-04T06:34:40.199Z"
   },
   {
    "duration": 15,
    "start_time": "2022-04-04T06:34:54.889Z"
   },
   {
    "duration": 13,
    "start_time": "2022-04-04T06:37:07.319Z"
   },
   {
    "duration": 13,
    "start_time": "2022-04-04T06:37:23.501Z"
   },
   {
    "duration": 53,
    "start_time": "2022-04-04T06:37:25.470Z"
   },
   {
    "duration": 19,
    "start_time": "2022-04-04T06:37:25.525Z"
   },
   {
    "duration": 18,
    "start_time": "2022-04-04T06:37:25.546Z"
   },
   {
    "duration": 5,
    "start_time": "2022-04-04T06:37:25.566Z"
   },
   {
    "duration": 7,
    "start_time": "2022-04-04T06:37:25.573Z"
   },
   {
    "duration": 17,
    "start_time": "2022-04-04T06:37:25.581Z"
   },
   {
    "duration": 0,
    "start_time": "2022-04-04T06:38:02.924Z"
   },
   {
    "duration": 2257,
    "start_time": "2022-04-04T06:38:10.704Z"
   },
   {
    "duration": 21,
    "start_time": "2022-04-04T06:38:16.992Z"
   },
   {
    "duration": 14,
    "start_time": "2022-04-04T06:38:36.308Z"
   },
   {
    "duration": 14,
    "start_time": "2022-04-04T06:38:49.401Z"
   },
   {
    "duration": 15,
    "start_time": "2022-04-04T06:43:47.313Z"
   },
   {
    "duration": 16,
    "start_time": "2022-04-04T06:45:03.693Z"
   },
   {
    "duration": 45,
    "start_time": "2022-04-04T06:45:09.831Z"
   },
   {
    "duration": 15,
    "start_time": "2022-04-04T06:45:09.878Z"
   },
   {
    "duration": 22,
    "start_time": "2022-04-04T06:45:09.894Z"
   },
   {
    "duration": 22,
    "start_time": "2022-04-04T06:45:09.918Z"
   },
   {
    "duration": 23,
    "start_time": "2022-04-04T06:45:09.942Z"
   },
   {
    "duration": 35,
    "start_time": "2022-04-04T06:45:09.967Z"
   },
   {
    "duration": 7,
    "start_time": "2022-04-04T06:50:40.235Z"
   },
   {
    "duration": 22,
    "start_time": "2022-04-04T06:50:44.093Z"
   },
   {
    "duration": 11,
    "start_time": "2022-04-04T06:56:19.910Z"
   },
   {
    "duration": 9,
    "start_time": "2022-04-04T06:57:23.618Z"
   },
   {
    "duration": 30,
    "start_time": "2022-04-04T06:59:43.110Z"
   },
   {
    "duration": 11,
    "start_time": "2022-04-04T06:59:58.480Z"
   },
   {
    "duration": 11,
    "start_time": "2022-04-04T07:00:34.613Z"
   },
   {
    "duration": 9,
    "start_time": "2022-04-04T07:01:41.035Z"
   },
   {
    "duration": 3,
    "start_time": "2022-04-04T07:01:49.251Z"
   },
   {
    "duration": 8,
    "start_time": "2022-04-04T07:02:48.429Z"
   },
   {
    "duration": 6,
    "start_time": "2022-04-04T07:02:53.359Z"
   },
   {
    "duration": 11,
    "start_time": "2022-04-04T07:03:37.301Z"
   },
   {
    "duration": 10,
    "start_time": "2022-04-04T07:03:42.594Z"
   },
   {
    "duration": 11,
    "start_time": "2022-04-04T07:05:11.801Z"
   },
   {
    "duration": 9,
    "start_time": "2022-04-04T07:05:13.995Z"
   },
   {
    "duration": 18,
    "start_time": "2022-04-04T07:05:53.975Z"
   },
   {
    "duration": 23,
    "start_time": "2022-04-04T07:06:44.227Z"
   },
   {
    "duration": 17,
    "start_time": "2022-04-04T07:06:47.567Z"
   },
   {
    "duration": 55,
    "start_time": "2022-04-04T07:07:07.953Z"
   },
   {
    "duration": 17,
    "start_time": "2022-04-04T07:07:08.010Z"
   },
   {
    "duration": 21,
    "start_time": "2022-04-04T07:07:08.029Z"
   },
   {
    "duration": 10,
    "start_time": "2022-04-04T07:07:08.052Z"
   },
   {
    "duration": 12,
    "start_time": "2022-04-04T07:07:08.064Z"
   },
   {
    "duration": 15,
    "start_time": "2022-04-04T07:07:08.077Z"
   },
   {
    "duration": 14,
    "start_time": "2022-04-04T07:07:08.094Z"
   },
   {
    "duration": 22,
    "start_time": "2022-04-04T07:07:08.110Z"
   },
   {
    "duration": 18,
    "start_time": "2022-04-04T07:07:08.133Z"
   },
   {
    "duration": 30,
    "start_time": "2022-04-04T07:07:08.154Z"
   },
   {
    "duration": 22,
    "start_time": "2022-04-04T07:08:00.701Z"
   },
   {
    "duration": 11,
    "start_time": "2022-04-04T07:10:34.236Z"
   },
   {
    "duration": 10,
    "start_time": "2022-04-04T07:10:36.784Z"
   },
   {
    "duration": 18,
    "start_time": "2022-04-04T07:10:39.219Z"
   },
   {
    "duration": 24,
    "start_time": "2022-04-04T07:10:59.683Z"
   },
   {
    "duration": 44,
    "start_time": "2022-04-04T07:11:03.375Z"
   },
   {
    "duration": 16,
    "start_time": "2022-04-04T07:11:03.421Z"
   },
   {
    "duration": 17,
    "start_time": "2022-04-04T07:11:03.438Z"
   },
   {
    "duration": 6,
    "start_time": "2022-04-04T07:11:03.457Z"
   },
   {
    "duration": 13,
    "start_time": "2022-04-04T07:11:03.464Z"
   },
   {
    "duration": 12,
    "start_time": "2022-04-04T07:11:03.479Z"
   },
   {
    "duration": 13,
    "start_time": "2022-04-04T07:11:03.493Z"
   },
   {
    "duration": 27,
    "start_time": "2022-04-04T07:11:03.507Z"
   },
   {
    "duration": 18,
    "start_time": "2022-04-04T07:11:03.536Z"
   },
   {
    "duration": 28,
    "start_time": "2022-04-04T07:11:03.556Z"
   },
   {
    "duration": 46,
    "start_time": "2022-04-04T07:11:03.586Z"
   },
   {
    "duration": 10,
    "start_time": "2022-04-04T07:21:03.794Z"
   },
   {
    "duration": 13,
    "start_time": "2022-04-04T07:21:07.213Z"
   },
   {
    "duration": 30,
    "start_time": "2022-04-04T07:21:12.617Z"
   },
   {
    "duration": 15,
    "start_time": "2022-04-04T07:23:56.186Z"
   },
   {
    "duration": 9,
    "start_time": "2022-04-04T07:28:14.935Z"
   },
   {
    "duration": 16,
    "start_time": "2022-04-04T07:28:30.113Z"
   },
   {
    "duration": 5,
    "start_time": "2022-04-04T07:31:23.447Z"
   },
   {
    "duration": 22,
    "start_time": "2022-04-04T07:31:27.649Z"
   },
   {
    "duration": 15,
    "start_time": "2022-04-04T07:34:32.430Z"
   },
   {
    "duration": 6,
    "start_time": "2022-04-04T07:37:40.444Z"
   },
   {
    "duration": 18,
    "start_time": "2022-04-04T07:37:58.352Z"
   },
   {
    "duration": 13,
    "start_time": "2022-04-04T07:38:03.287Z"
   },
   {
    "duration": 11,
    "start_time": "2022-04-04T07:40:04.270Z"
   },
   {
    "duration": 62,
    "start_time": "2022-04-04T07:42:02.779Z"
   },
   {
    "duration": 20,
    "start_time": "2022-04-04T07:42:02.843Z"
   },
   {
    "duration": 22,
    "start_time": "2022-04-04T07:42:02.865Z"
   },
   {
    "duration": 12,
    "start_time": "2022-04-04T07:42:02.890Z"
   },
   {
    "duration": 28,
    "start_time": "2022-04-04T07:42:02.904Z"
   },
   {
    "duration": 21,
    "start_time": "2022-04-04T07:42:02.935Z"
   },
   {
    "duration": 30,
    "start_time": "2022-04-04T07:42:02.958Z"
   },
   {
    "duration": 16,
    "start_time": "2022-04-04T07:42:02.991Z"
   },
   {
    "duration": 38,
    "start_time": "2022-04-04T07:42:03.010Z"
   },
   {
    "duration": 35,
    "start_time": "2022-04-04T07:42:03.052Z"
   },
   {
    "duration": 12,
    "start_time": "2022-04-04T07:42:03.089Z"
   },
   {
    "duration": 34,
    "start_time": "2022-04-04T07:42:03.103Z"
   },
   {
    "duration": 18,
    "start_time": "2022-04-04T07:42:03.139Z"
   },
   {
    "duration": 5,
    "start_time": "2022-04-04T07:42:03.159Z"
   },
   {
    "duration": 23,
    "start_time": "2022-04-04T07:42:03.166Z"
   },
   {
    "duration": 10,
    "start_time": "2022-04-04T07:48:06.949Z"
   },
   {
    "duration": 7,
    "start_time": "2022-04-04T07:48:44.913Z"
   },
   {
    "duration": 2602,
    "start_time": "2022-04-04T07:58:57.401Z"
   },
   {
    "duration": 2254,
    "start_time": "2022-04-04T07:59:16.737Z"
   },
   {
    "duration": 2360,
    "start_time": "2022-04-04T07:59:46.923Z"
   },
   {
    "duration": 2,
    "start_time": "2022-04-04T08:02:05.789Z"
   },
   {
    "duration": 8,
    "start_time": "2022-04-04T08:02:56.087Z"
   },
   {
    "duration": 16,
    "start_time": "2022-04-04T08:03:24.235Z"
   },
   {
    "duration": 15,
    "start_time": "2022-04-04T08:03:30.497Z"
   },
   {
    "duration": 16,
    "start_time": "2022-04-04T08:03:44.277Z"
   },
   {
    "duration": 415,
    "start_time": "2022-04-04T08:04:26.973Z"
   },
   {
    "duration": 314,
    "start_time": "2022-04-04T08:05:02.661Z"
   },
   {
    "duration": 173,
    "start_time": "2022-04-04T08:06:24.357Z"
   },
   {
    "duration": 182,
    "start_time": "2022-04-04T08:07:25.779Z"
   },
   {
    "duration": 206,
    "start_time": "2022-04-04T08:07:54.101Z"
   },
   {
    "duration": 182,
    "start_time": "2022-04-04T08:08:04.003Z"
   },
   {
    "duration": 271,
    "start_time": "2022-04-04T08:08:15.575Z"
   },
   {
    "duration": 196,
    "start_time": "2022-04-04T08:08:23.103Z"
   },
   {
    "duration": 212,
    "start_time": "2022-04-04T08:08:29.948Z"
   },
   {
    "duration": 201,
    "start_time": "2022-04-04T08:08:35.996Z"
   },
   {
    "duration": 206,
    "start_time": "2022-04-04T08:11:30.223Z"
   },
   {
    "duration": 212,
    "start_time": "2022-04-04T08:12:26.684Z"
   },
   {
    "duration": 208,
    "start_time": "2022-04-04T08:12:49.977Z"
   },
   {
    "duration": 461,
    "start_time": "2022-04-04T08:21:11.953Z"
   },
   {
    "duration": 502,
    "start_time": "2022-04-04T08:22:05.774Z"
   },
   {
    "duration": 634,
    "start_time": "2022-04-04T08:23:01.221Z"
   },
   {
    "duration": 517,
    "start_time": "2022-04-04T08:23:09.677Z"
   },
   {
    "duration": 214,
    "start_time": "2022-04-04T08:23:20.647Z"
   },
   {
    "duration": 495,
    "start_time": "2022-04-04T08:23:38.626Z"
   },
   {
    "duration": 144,
    "start_time": "2022-04-04T08:30:19.858Z"
   },
   {
    "duration": 157,
    "start_time": "2022-04-04T08:30:51.392Z"
   },
   {
    "duration": 146,
    "start_time": "2022-04-04T08:31:06.009Z"
   },
   {
    "duration": 143,
    "start_time": "2022-04-04T08:31:40.121Z"
   },
   {
    "duration": 419,
    "start_time": "2022-04-04T08:31:57.191Z"
   },
   {
    "duration": 49,
    "start_time": "2022-04-04T08:32:14.717Z"
   },
   {
    "duration": 17,
    "start_time": "2022-04-04T08:33:02.857Z"
   },
   {
    "duration": 537,
    "start_time": "2022-04-04T08:33:06.947Z"
   },
   {
    "duration": 190,
    "start_time": "2022-04-04T08:34:35.417Z"
   },
   {
    "duration": 177,
    "start_time": "2022-04-04T08:35:10.716Z"
   },
   {
    "duration": 432,
    "start_time": "2022-04-04T08:35:20.114Z"
   },
   {
    "duration": 208,
    "start_time": "2022-04-04T08:35:30.504Z"
   },
   {
    "duration": 218,
    "start_time": "2022-04-04T08:35:41.708Z"
   },
   {
    "duration": 435,
    "start_time": "2022-04-04T08:36:34.100Z"
   },
   {
    "duration": 260,
    "start_time": "2022-04-04T08:38:01.187Z"
   },
   {
    "duration": 188,
    "start_time": "2022-04-04T08:38:41.320Z"
   },
   {
    "duration": 193,
    "start_time": "2022-04-04T08:38:52.234Z"
   },
   {
    "duration": 141,
    "start_time": "2022-04-04T08:39:23.386Z"
   },
   {
    "duration": 186,
    "start_time": "2022-04-04T08:39:31.413Z"
   },
   {
    "duration": 316,
    "start_time": "2022-04-04T08:39:51.432Z"
   },
   {
    "duration": 213,
    "start_time": "2022-04-04T08:40:42.918Z"
   },
   {
    "duration": 186,
    "start_time": "2022-04-04T08:41:45.313Z"
   },
   {
    "duration": 248,
    "start_time": "2022-04-04T08:42:06.628Z"
   },
   {
    "duration": 512,
    "start_time": "2022-04-04T08:44:44.528Z"
   },
   {
    "duration": 196,
    "start_time": "2022-04-04T08:46:59.949Z"
   },
   {
    "duration": 215,
    "start_time": "2022-04-04T08:48:16.542Z"
   },
   {
    "duration": 217,
    "start_time": "2022-04-04T08:48:33.369Z"
   },
   {
    "duration": 220,
    "start_time": "2022-04-04T08:49:02.847Z"
   },
   {
    "duration": 214,
    "start_time": "2022-04-04T08:49:16.855Z"
   },
   {
    "duration": 215,
    "start_time": "2022-04-04T08:49:29.371Z"
   },
   {
    "duration": 222,
    "start_time": "2022-04-04T08:50:24.591Z"
   },
   {
    "duration": 329,
    "start_time": "2022-04-04T08:50:48.973Z"
   },
   {
    "duration": 228,
    "start_time": "2022-04-04T08:51:25.537Z"
   },
   {
    "duration": 192,
    "start_time": "2022-04-04T08:53:12.263Z"
   },
   {
    "duration": 242,
    "start_time": "2022-04-04T08:53:22.433Z"
   },
   {
    "duration": 219,
    "start_time": "2022-04-04T08:53:34.095Z"
   },
   {
    "duration": 256,
    "start_time": "2022-04-04T08:53:53.451Z"
   },
   {
    "duration": 223,
    "start_time": "2022-04-04T08:54:20.615Z"
   },
   {
    "duration": 230,
    "start_time": "2022-04-04T08:54:34.727Z"
   },
   {
    "duration": 26,
    "start_time": "2022-04-04T09:00:24.106Z"
   },
   {
    "duration": 11,
    "start_time": "2022-04-04T09:01:18.966Z"
   },
   {
    "duration": 13,
    "start_time": "2022-04-04T09:01:59.394Z"
   },
   {
    "duration": 13,
    "start_time": "2022-04-04T09:02:23.974Z"
   },
   {
    "duration": 43,
    "start_time": "2022-04-04T09:02:26.136Z"
   },
   {
    "duration": 15,
    "start_time": "2022-04-04T09:02:26.181Z"
   },
   {
    "duration": 17,
    "start_time": "2022-04-04T09:02:26.197Z"
   },
   {
    "duration": 17,
    "start_time": "2022-04-04T09:02:26.216Z"
   },
   {
    "duration": 7,
    "start_time": "2022-04-04T09:02:26.235Z"
   },
   {
    "duration": 15,
    "start_time": "2022-04-04T09:02:26.244Z"
   },
   {
    "duration": 20,
    "start_time": "2022-04-04T09:02:26.261Z"
   },
   {
    "duration": 10,
    "start_time": "2022-04-04T09:02:26.282Z"
   },
   {
    "duration": 30,
    "start_time": "2022-04-04T09:02:26.293Z"
   },
   {
    "duration": 22,
    "start_time": "2022-04-04T09:02:26.331Z"
   },
   {
    "duration": 7,
    "start_time": "2022-04-04T09:02:26.354Z"
   },
   {
    "duration": 20,
    "start_time": "2022-04-04T09:02:26.363Z"
   },
   {
    "duration": 25,
    "start_time": "2022-04-04T09:02:26.385Z"
   },
   {
    "duration": 7,
    "start_time": "2022-04-04T09:02:26.412Z"
   },
   {
    "duration": 24,
    "start_time": "2022-04-04T09:02:26.420Z"
   },
   {
    "duration": 235,
    "start_time": "2022-04-04T09:02:26.446Z"
   },
   {
    "duration": 493,
    "start_time": "2022-04-04T09:02:26.683Z"
   },
   {
    "duration": 230,
    "start_time": "2022-04-04T09:02:27.178Z"
   },
   {
    "duration": 229,
    "start_time": "2022-04-04T09:02:27.410Z"
   },
   {
    "duration": 13,
    "start_time": "2022-04-04T09:02:27.641Z"
   },
   {
    "duration": 13,
    "start_time": "2022-04-04T09:03:36.738Z"
   },
   {
    "duration": 21,
    "start_time": "2022-04-04T09:06:04.232Z"
   },
   {
    "duration": 16,
    "start_time": "2022-04-04T09:06:32.214Z"
   },
   {
    "duration": 15,
    "start_time": "2022-04-04T09:06:48.800Z"
   },
   {
    "duration": 15,
    "start_time": "2022-04-04T09:11:26.098Z"
   },
   {
    "duration": 5,
    "start_time": "2022-04-04T09:16:38.626Z"
   },
   {
    "duration": 17,
    "start_time": "2022-04-04T09:16:49.892Z"
   },
   {
    "duration": 232,
    "start_time": "2022-04-04T09:17:20.750Z"
   },
   {
    "duration": 28,
    "start_time": "2022-04-04T09:17:40.126Z"
   },
   {
    "duration": 17,
    "start_time": "2022-04-04T09:17:57.182Z"
   },
   {
    "duration": 227,
    "start_time": "2022-04-04T09:18:15.365Z"
   },
   {
    "duration": 468,
    "start_time": "2022-04-04T09:20:20.556Z"
   },
   {
    "duration": 247,
    "start_time": "2022-04-04T09:23:33.925Z"
   },
   {
    "duration": 321,
    "start_time": "2022-04-04T09:24:23.015Z"
   },
   {
    "duration": 343,
    "start_time": "2022-04-04T09:24:28.632Z"
   },
   {
    "duration": 332,
    "start_time": "2022-04-04T09:24:36.921Z"
   },
   {
    "duration": 310,
    "start_time": "2022-04-04T09:33:11.402Z"
   },
   {
    "duration": 341,
    "start_time": "2022-04-04T09:33:44.810Z"
   },
   {
    "duration": 314,
    "start_time": "2022-04-04T09:34:35.399Z"
   },
   {
    "duration": 311,
    "start_time": "2022-04-04T09:35:19.183Z"
   },
   {
    "duration": 11,
    "start_time": "2022-04-04T09:38:49.052Z"
   },
   {
    "duration": 13,
    "start_time": "2022-04-04T09:41:43.545Z"
   },
   {
    "duration": 12,
    "start_time": "2022-04-04T09:41:56.040Z"
   },
   {
    "duration": 12,
    "start_time": "2022-04-04T09:41:58.575Z"
   },
   {
    "duration": 12,
    "start_time": "2022-04-04T09:43:41.951Z"
   },
   {
    "duration": 16,
    "start_time": "2022-04-04T09:43:55.362Z"
   },
   {
    "duration": 261,
    "start_time": "2022-04-04T09:44:05.409Z"
   },
   {
    "duration": 7,
    "start_time": "2022-04-04T09:46:05.919Z"
   },
   {
    "duration": 9,
    "start_time": "2022-04-04T09:46:07.976Z"
   },
   {
    "duration": 184,
    "start_time": "2022-04-04T09:46:10.316Z"
   },
   {
    "duration": 210,
    "start_time": "2022-04-04T09:46:22.202Z"
   },
   {
    "duration": 221,
    "start_time": "2022-04-04T09:49:08.747Z"
   },
   {
    "duration": 382,
    "start_time": "2022-04-04T09:51:04.857Z"
   },
   {
    "duration": 235,
    "start_time": "2022-04-04T09:51:21.456Z"
   },
   {
    "duration": 199,
    "start_time": "2022-04-04T09:51:33.117Z"
   },
   {
    "duration": 217,
    "start_time": "2022-04-04T09:51:39.228Z"
   },
   {
    "duration": 6,
    "start_time": "2022-04-04T10:03:09.903Z"
   },
   {
    "duration": 24,
    "start_time": "2022-04-04T10:03:15.430Z"
   },
   {
    "duration": 25,
    "start_time": "2022-04-04T10:04:42.668Z"
   },
   {
    "duration": 6,
    "start_time": "2022-04-04T10:05:47.160Z"
   },
   {
    "duration": 23,
    "start_time": "2022-04-04T10:05:49.619Z"
   },
   {
    "duration": 7,
    "start_time": "2022-04-04T10:06:10.637Z"
   },
   {
    "duration": 8,
    "start_time": "2022-04-04T10:06:55.384Z"
   },
   {
    "duration": 23,
    "start_time": "2022-04-04T10:07:00.694Z"
   },
   {
    "duration": 701,
    "start_time": "2022-04-04T10:08:24.428Z"
   },
   {
    "duration": 15,
    "start_time": "2022-04-04T10:09:16.766Z"
   },
   {
    "duration": 16,
    "start_time": "2022-04-04T10:09:20.066Z"
   },
   {
    "duration": 568,
    "start_time": "2022-04-04T10:12:09.372Z"
   },
   {
    "duration": 17,
    "start_time": "2022-04-04T10:12:20.503Z"
   },
   {
    "duration": 7,
    "start_time": "2022-04-04T10:12:59.967Z"
   },
   {
    "duration": 8,
    "start_time": "2022-04-04T10:13:04.566Z"
   },
   {
    "duration": 9,
    "start_time": "2022-04-04T10:13:23.582Z"
   },
   {
    "duration": 23,
    "start_time": "2022-04-04T10:13:27.576Z"
   },
   {
    "duration": 21,
    "start_time": "2022-04-04T10:14:04.804Z"
   },
   {
    "duration": 8,
    "start_time": "2022-04-04T10:14:13.691Z"
   },
   {
    "duration": 8,
    "start_time": "2022-04-04T10:14:34.060Z"
   },
   {
    "duration": 8,
    "start_time": "2022-04-04T10:14:36.452Z"
   },
   {
    "duration": 24,
    "start_time": "2022-04-04T10:14:38.730Z"
   },
   {
    "duration": 4,
    "start_time": "2022-04-04T10:15:15.246Z"
   },
   {
    "duration": 8,
    "start_time": "2022-04-04T10:15:31.870Z"
   },
   {
    "duration": 52,
    "start_time": "2022-04-04T10:15:39.982Z"
   },
   {
    "duration": 16,
    "start_time": "2022-04-04T10:15:40.036Z"
   },
   {
    "duration": 17,
    "start_time": "2022-04-04T10:15:40.054Z"
   },
   {
    "duration": 4,
    "start_time": "2022-04-04T10:15:40.073Z"
   },
   {
    "duration": 6,
    "start_time": "2022-04-04T10:15:40.079Z"
   },
   {
    "duration": 12,
    "start_time": "2022-04-04T10:15:40.087Z"
   },
   {
    "duration": 11,
    "start_time": "2022-04-04T10:15:40.132Z"
   },
   {
    "duration": 10,
    "start_time": "2022-04-04T10:15:40.145Z"
   },
   {
    "duration": 18,
    "start_time": "2022-04-04T10:15:40.157Z"
   },
   {
    "duration": 29,
    "start_time": "2022-04-04T10:15:40.178Z"
   },
   {
    "duration": 8,
    "start_time": "2022-04-04T10:15:40.231Z"
   },
   {
    "duration": 15,
    "start_time": "2022-04-04T10:15:40.241Z"
   },
   {
    "duration": 20,
    "start_time": "2022-04-04T10:15:40.257Z"
   },
   {
    "duration": 10,
    "start_time": "2022-04-04T10:15:40.279Z"
   },
   {
    "duration": 19,
    "start_time": "2022-04-04T10:15:40.291Z"
   },
   {
    "duration": 236,
    "start_time": "2022-04-04T10:15:40.331Z"
   },
   {
    "duration": 489,
    "start_time": "2022-04-04T10:15:40.569Z"
   },
   {
    "duration": 245,
    "start_time": "2022-04-04T10:15:41.060Z"
   },
   {
    "duration": 255,
    "start_time": "2022-04-04T10:15:41.307Z"
   },
   {
    "duration": 14,
    "start_time": "2022-04-04T10:15:41.564Z"
   },
   {
    "duration": 6,
    "start_time": "2022-04-04T10:15:41.581Z"
   },
   {
    "duration": 21,
    "start_time": "2022-04-04T10:15:41.589Z"
   },
   {
    "duration": 331,
    "start_time": "2022-04-04T10:15:41.632Z"
   },
   {
    "duration": 7,
    "start_time": "2022-04-04T10:15:41.965Z"
   },
   {
    "duration": 17,
    "start_time": "2022-04-04T10:15:41.974Z"
   },
   {
    "duration": 223,
    "start_time": "2022-04-04T10:15:41.993Z"
   },
   {
    "duration": 16,
    "start_time": "2022-04-04T10:15:42.218Z"
   },
   {
    "duration": 28,
    "start_time": "2022-04-04T10:15:42.236Z"
   },
   {
    "duration": 7,
    "start_time": "2022-04-04T10:15:55.124Z"
   },
   {
    "duration": 765,
    "start_time": "2022-04-04T10:17:31.748Z"
   },
   {
    "duration": 758,
    "start_time": "2022-04-04T10:18:17.650Z"
   },
   {
    "duration": 761,
    "start_time": "2022-04-04T10:18:41.505Z"
   },
   {
    "duration": 750,
    "start_time": "2022-04-04T10:19:36.266Z"
   },
   {
    "duration": 9,
    "start_time": "2022-04-04T10:20:33.292Z"
   },
   {
    "duration": 7,
    "start_time": "2022-04-04T10:20:35.562Z"
   },
   {
    "duration": 14,
    "start_time": "2022-04-04T10:21:16.245Z"
   },
   {
    "duration": 7,
    "start_time": "2022-04-04T10:23:52.722Z"
   },
   {
    "duration": 10,
    "start_time": "2022-04-04T10:23:56.669Z"
   },
   {
    "duration": 9,
    "start_time": "2022-04-04T10:24:01.583Z"
   },
   {
    "duration": 8,
    "start_time": "2022-04-04T10:24:35.195Z"
   },
   {
    "duration": 8,
    "start_time": "2022-04-04T10:24:38.814Z"
   },
   {
    "duration": 9,
    "start_time": "2022-04-04T10:24:41.667Z"
   },
   {
    "duration": 168,
    "start_time": "2022-04-04T10:24:46.595Z"
   },
   {
    "duration": 10,
    "start_time": "2022-04-04T10:25:38.306Z"
   },
   {
    "duration": 9,
    "start_time": "2022-04-04T10:25:48.935Z"
   },
   {
    "duration": 8,
    "start_time": "2022-04-04T10:25:50.803Z"
   },
   {
    "duration": 180,
    "start_time": "2022-04-04T10:26:02.928Z"
   },
   {
    "duration": 6,
    "start_time": "2022-04-04T10:27:42.912Z"
   },
   {
    "duration": 4928,
    "start_time": "2022-04-04T10:29:55.930Z"
   },
   {
    "duration": 0,
    "start_time": "2022-04-04T10:30:00.860Z"
   },
   {
    "duration": 5,
    "start_time": "2022-04-04T10:30:25.808Z"
   },
   {
    "duration": 5,
    "start_time": "2022-04-04T10:30:32.163Z"
   },
   {
    "duration": 5,
    "start_time": "2022-04-04T10:30:35.650Z"
   },
   {
    "duration": 5,
    "start_time": "2022-04-04T10:30:37.574Z"
   },
   {
    "duration": 6,
    "start_time": "2022-04-04T10:32:51.084Z"
   },
   {
    "duration": 436,
    "start_time": "2022-04-04T10:33:07.047Z"
   },
   {
    "duration": 6,
    "start_time": "2022-04-04T10:33:21.226Z"
   },
   {
    "duration": 859,
    "start_time": "2022-04-04T10:33:32.735Z"
   },
   {
    "duration": 9,
    "start_time": "2022-04-04T10:34:37.680Z"
   },
   {
    "duration": 6,
    "start_time": "2022-04-04T10:34:40.500Z"
   },
   {
    "duration": 6,
    "start_time": "2022-04-04T10:34:43.946Z"
   },
   {
    "duration": 1911,
    "start_time": "2022-04-04T13:04:30.007Z"
   },
   {
    "duration": 24,
    "start_time": "2022-04-04T13:04:31.922Z"
   },
   {
    "duration": 58,
    "start_time": "2022-04-04T13:04:31.949Z"
   },
   {
    "duration": 5,
    "start_time": "2022-04-04T13:04:32.012Z"
   },
   {
    "duration": 21,
    "start_time": "2022-04-04T13:04:32.020Z"
   },
   {
    "duration": 23,
    "start_time": "2022-04-04T13:04:32.043Z"
   },
   {
    "duration": 20,
    "start_time": "2022-04-04T13:04:32.068Z"
   },
   {
    "duration": 23,
    "start_time": "2022-04-04T13:04:32.096Z"
   },
   {
    "duration": 39,
    "start_time": "2022-04-04T13:04:32.122Z"
   },
   {
    "duration": 35,
    "start_time": "2022-04-04T13:04:32.165Z"
   },
   {
    "duration": 28,
    "start_time": "2022-04-04T13:04:32.206Z"
   },
   {
    "duration": 16,
    "start_time": "2022-04-04T13:04:32.236Z"
   },
   {
    "duration": 20,
    "start_time": "2022-04-04T13:04:32.254Z"
   },
   {
    "duration": 15,
    "start_time": "2022-04-04T13:04:32.275Z"
   },
   {
    "duration": 49,
    "start_time": "2022-04-04T13:04:32.292Z"
   },
   {
    "duration": 402,
    "start_time": "2022-04-04T13:04:32.344Z"
   },
   {
    "duration": 822,
    "start_time": "2022-04-04T13:04:32.749Z"
   },
   {
    "duration": 378,
    "start_time": "2022-04-04T13:04:33.573Z"
   },
   {
    "duration": 413,
    "start_time": "2022-04-04T13:04:33.954Z"
   },
   {
    "duration": 39,
    "start_time": "2022-04-04T13:04:34.370Z"
   },
   {
    "duration": 10,
    "start_time": "2022-04-04T13:04:34.412Z"
   },
   {
    "duration": 23,
    "start_time": "2022-04-04T13:04:34.425Z"
   },
   {
    "duration": 553,
    "start_time": "2022-04-04T13:04:34.450Z"
   },
   {
    "duration": 11,
    "start_time": "2022-04-04T13:04:35.005Z"
   },
   {
    "duration": 22,
    "start_time": "2022-04-04T13:04:35.018Z"
   },
   {
    "duration": 387,
    "start_time": "2022-04-04T13:04:35.043Z"
   },
   {
    "duration": 14,
    "start_time": "2022-04-04T13:04:35.432Z"
   },
   {
    "duration": 34,
    "start_time": "2022-04-04T13:04:35.454Z"
   },
   {
    "duration": 24,
    "start_time": "2022-04-04T13:04:35.492Z"
   },
   {
    "duration": 281,
    "start_time": "2022-04-04T13:04:35.521Z"
   },
   {
    "duration": 12,
    "start_time": "2022-04-04T13:04:35.808Z"
   },
   {
    "duration": 17,
    "start_time": "2022-04-04T13:04:35.823Z"
   },
   {
    "duration": 13,
    "start_time": "2022-04-04T13:04:35.842Z"
   },
   {
    "duration": 30,
    "start_time": "2022-04-04T13:04:35.857Z"
   },
   {
    "duration": 11,
    "start_time": "2022-04-04T13:04:35.890Z"
   },
   {
    "duration": 33,
    "start_time": "2022-04-04T13:04:35.903Z"
   },
   {
    "duration": 327,
    "start_time": "2022-04-04T13:04:35.938Z"
   },
   {
    "duration": 274,
    "start_time": "2022-04-04T13:06:20.749Z"
   },
   {
    "duration": 249,
    "start_time": "2022-04-04T13:06:25.303Z"
   },
   {
    "duration": 20,
    "start_time": "2022-04-04T13:09:25.348Z"
   },
   {
    "duration": 32,
    "start_time": "2022-04-04T13:10:26.468Z"
   },
   {
    "duration": 34,
    "start_time": "2022-04-04T13:10:34.166Z"
   },
   {
    "duration": 188,
    "start_time": "2022-04-04T13:12:44.572Z"
   },
   {
    "duration": 19,
    "start_time": "2022-04-04T13:12:56.621Z"
   },
   {
    "duration": 277,
    "start_time": "2022-04-04T13:15:02.512Z"
   },
   {
    "duration": 15,
    "start_time": "2022-04-04T13:15:44.638Z"
   },
   {
    "duration": 302,
    "start_time": "2022-04-04T13:15:54.707Z"
   },
   {
    "duration": 273,
    "start_time": "2022-04-04T13:16:38.767Z"
   },
   {
    "duration": 14,
    "start_time": "2022-04-04T13:17:40.616Z"
   },
   {
    "duration": 13,
    "start_time": "2022-04-04T13:17:47.960Z"
   },
   {
    "duration": 16,
    "start_time": "2022-04-04T13:18:03.351Z"
   },
   {
    "duration": 23,
    "start_time": "2022-04-04T13:18:09.271Z"
   },
   {
    "duration": 14,
    "start_time": "2022-04-04T13:18:17.194Z"
   },
   {
    "duration": 14,
    "start_time": "2022-04-04T13:18:34.920Z"
   },
   {
    "duration": 49,
    "start_time": "2022-04-04T13:20:03.620Z"
   },
   {
    "duration": 23,
    "start_time": "2022-04-04T13:20:03.671Z"
   },
   {
    "duration": 30,
    "start_time": "2022-04-04T13:20:03.696Z"
   },
   {
    "duration": 8,
    "start_time": "2022-04-04T13:20:03.729Z"
   },
   {
    "duration": 16,
    "start_time": "2022-04-04T13:20:03.739Z"
   },
   {
    "duration": 38,
    "start_time": "2022-04-04T13:20:03.758Z"
   },
   {
    "duration": 16,
    "start_time": "2022-04-04T13:20:03.799Z"
   },
   {
    "duration": 12,
    "start_time": "2022-04-04T13:20:03.817Z"
   },
   {
    "duration": 59,
    "start_time": "2022-04-04T13:20:03.832Z"
   },
   {
    "duration": 33,
    "start_time": "2022-04-04T13:20:03.895Z"
   },
   {
    "duration": 11,
    "start_time": "2022-04-04T13:20:03.930Z"
   },
   {
    "duration": 51,
    "start_time": "2022-04-04T13:20:03.943Z"
   },
   {
    "duration": 23,
    "start_time": "2022-04-04T13:20:03.997Z"
   },
   {
    "duration": 6,
    "start_time": "2022-04-04T13:20:04.023Z"
   },
   {
    "duration": 28,
    "start_time": "2022-04-04T13:20:04.031Z"
   },
   {
    "duration": 365,
    "start_time": "2022-04-04T13:20:04.062Z"
   },
   {
    "duration": 719,
    "start_time": "2022-04-04T13:20:04.429Z"
   },
   {
    "duration": 354,
    "start_time": "2022-04-04T13:20:05.151Z"
   },
   {
    "duration": 369,
    "start_time": "2022-04-04T13:20:05.508Z"
   },
   {
    "duration": 24,
    "start_time": "2022-04-04T13:20:05.879Z"
   },
   {
    "duration": 12,
    "start_time": "2022-04-04T13:20:05.905Z"
   },
   {
    "duration": 22,
    "start_time": "2022-04-04T13:20:05.919Z"
   },
   {
    "duration": 575,
    "start_time": "2022-04-04T13:20:05.946Z"
   },
   {
    "duration": 9,
    "start_time": "2022-04-04T13:20:06.523Z"
   },
   {
    "duration": 15,
    "start_time": "2022-04-04T13:20:06.534Z"
   },
   {
    "duration": 363,
    "start_time": "2022-04-04T13:20:06.552Z"
   },
   {
    "duration": 14,
    "start_time": "2022-04-04T13:20:06.918Z"
   },
   {
    "duration": 14,
    "start_time": "2022-04-04T13:20:06.935Z"
   },
   {
    "duration": 41,
    "start_time": "2022-04-04T13:20:06.951Z"
   },
   {
    "duration": 250,
    "start_time": "2022-04-04T13:20:06.994Z"
   },
   {
    "duration": 8,
    "start_time": "2022-04-04T13:20:07.247Z"
   },
   {
    "duration": 28,
    "start_time": "2022-04-04T13:20:07.258Z"
   },
   {
    "duration": 15,
    "start_time": "2022-04-04T13:20:07.290Z"
   },
   {
    "duration": 15,
    "start_time": "2022-04-04T13:20:07.307Z"
   },
   {
    "duration": 7,
    "start_time": "2022-04-04T13:20:07.324Z"
   },
   {
    "duration": 7,
    "start_time": "2022-04-04T13:20:07.333Z"
   },
   {
    "duration": 271,
    "start_time": "2022-04-04T13:20:07.342Z"
   },
   {
    "duration": 13,
    "start_time": "2022-04-04T13:20:07.615Z"
   },
   {
    "duration": 290,
    "start_time": "2022-04-04T13:20:07.630Z"
   },
   {
    "duration": 18,
    "start_time": "2022-04-04T13:20:07.922Z"
   },
   {
    "duration": 21,
    "start_time": "2022-04-04T13:20:27.205Z"
   },
   {
    "duration": 18,
    "start_time": "2022-04-04T13:25:18.317Z"
   },
   {
    "duration": 14,
    "start_time": "2022-04-04T13:26:03.196Z"
   },
   {
    "duration": 13,
    "start_time": "2022-04-04T13:26:32.616Z"
   },
   {
    "duration": 14,
    "start_time": "2022-04-04T13:27:25.862Z"
   },
   {
    "duration": 27,
    "start_time": "2022-04-04T13:27:54.482Z"
   },
   {
    "duration": 14,
    "start_time": "2022-04-04T13:28:27.341Z"
   },
   {
    "duration": 36,
    "start_time": "2022-04-04T13:28:43.069Z"
   },
   {
    "duration": 215,
    "start_time": "2022-04-04T13:29:41.722Z"
   },
   {
    "duration": 1862,
    "start_time": "2022-04-04T17:27:03.705Z"
   },
   {
    "duration": 23,
    "start_time": "2022-04-04T17:27:05.569Z"
   },
   {
    "duration": 36,
    "start_time": "2022-04-04T17:27:05.595Z"
   },
   {
    "duration": 4,
    "start_time": "2022-04-04T17:27:05.635Z"
   },
   {
    "duration": 21,
    "start_time": "2022-04-04T17:27:05.641Z"
   },
   {
    "duration": 28,
    "start_time": "2022-04-04T17:27:05.664Z"
   },
   {
    "duration": 16,
    "start_time": "2022-04-04T17:27:05.695Z"
   },
   {
    "duration": 12,
    "start_time": "2022-04-04T17:27:05.713Z"
   },
   {
    "duration": 58,
    "start_time": "2022-04-04T17:27:05.727Z"
   },
   {
    "duration": 35,
    "start_time": "2022-04-04T17:27:05.788Z"
   },
   {
    "duration": 10,
    "start_time": "2022-04-04T17:27:05.825Z"
   },
   {
    "duration": 43,
    "start_time": "2022-04-04T17:27:05.836Z"
   },
   {
    "duration": 37,
    "start_time": "2022-04-04T17:27:05.881Z"
   },
   {
    "duration": 10,
    "start_time": "2022-04-04T17:27:05.920Z"
   },
   {
    "duration": 27,
    "start_time": "2022-04-04T17:27:05.932Z"
   },
   {
    "duration": 437,
    "start_time": "2022-04-04T17:27:05.961Z"
   },
   {
    "duration": 773,
    "start_time": "2022-04-04T17:27:06.400Z"
   },
   {
    "duration": 356,
    "start_time": "2022-04-04T17:27:07.175Z"
   },
   {
    "duration": 386,
    "start_time": "2022-04-04T17:27:07.533Z"
   },
   {
    "duration": 22,
    "start_time": "2022-04-04T17:27:07.922Z"
   },
   {
    "duration": 13,
    "start_time": "2022-04-04T17:27:07.947Z"
   },
   {
    "duration": 49,
    "start_time": "2022-04-04T17:27:07.962Z"
   },
   {
    "duration": 487,
    "start_time": "2022-04-04T17:27:08.013Z"
   },
   {
    "duration": 9,
    "start_time": "2022-04-04T17:27:08.502Z"
   },
   {
    "duration": 21,
    "start_time": "2022-04-04T17:27:08.513Z"
   },
   {
    "duration": 354,
    "start_time": "2022-04-04T17:27:08.536Z"
   },
   {
    "duration": 13,
    "start_time": "2022-04-04T17:27:08.892Z"
   },
   {
    "duration": 12,
    "start_time": "2022-04-04T17:27:08.910Z"
   },
   {
    "duration": 17,
    "start_time": "2022-04-04T17:27:08.924Z"
   },
   {
    "duration": 279,
    "start_time": "2022-04-04T17:27:08.944Z"
   },
   {
    "duration": 8,
    "start_time": "2022-04-04T17:27:09.225Z"
   },
   {
    "duration": 9,
    "start_time": "2022-04-04T17:27:09.236Z"
   },
   {
    "duration": 14,
    "start_time": "2022-04-04T17:27:09.247Z"
   },
   {
    "duration": 12,
    "start_time": "2022-04-04T17:27:09.285Z"
   },
   {
    "duration": 16,
    "start_time": "2022-04-04T17:27:09.299Z"
   },
   {
    "duration": 9,
    "start_time": "2022-04-04T17:27:09.317Z"
   },
   {
    "duration": 383,
    "start_time": "2022-04-04T17:27:09.328Z"
   },
   {
    "duration": 23,
    "start_time": "2022-04-04T17:27:09.713Z"
   },
   {
    "duration": 357,
    "start_time": "2022-04-04T17:27:09.738Z"
   },
   {
    "duration": 22,
    "start_time": "2022-04-04T17:27:10.097Z"
   },
   {
    "duration": 254,
    "start_time": "2022-04-04T17:27:10.122Z"
   },
   {
    "duration": 231,
    "start_time": "2022-04-04T17:27:21.123Z"
   },
   {
    "duration": 223,
    "start_time": "2022-04-04T17:28:47.910Z"
   },
   {
    "duration": 225,
    "start_time": "2022-04-04T17:29:47.360Z"
   },
   {
    "duration": 252,
    "start_time": "2022-04-04T17:31:37.458Z"
   },
   {
    "duration": 313,
    "start_time": "2022-04-04T17:32:32.432Z"
   },
   {
    "duration": 215,
    "start_time": "2022-04-04T17:33:13.602Z"
   },
   {
    "duration": 230,
    "start_time": "2022-04-04T17:37:35.238Z"
   },
   {
    "duration": 220,
    "start_time": "2022-04-04T17:39:23.534Z"
   },
   {
    "duration": 210,
    "start_time": "2022-04-04T17:40:52.700Z"
   },
   {
    "duration": 214,
    "start_time": "2022-04-04T17:42:11.710Z"
   },
   {
    "duration": 225,
    "start_time": "2022-04-04T17:42:46.915Z"
   },
   {
    "duration": 14,
    "start_time": "2022-04-04T17:56:59.401Z"
   },
   {
    "duration": 14,
    "start_time": "2022-04-04T18:01:06.467Z"
   },
   {
    "duration": 539,
    "start_time": "2022-04-04T18:21:22.461Z"
   },
   {
    "duration": 649,
    "start_time": "2022-04-04T18:21:49.878Z"
   },
   {
    "duration": 688,
    "start_time": "2022-04-04T18:23:00.542Z"
   },
   {
    "duration": 630,
    "start_time": "2022-04-04T18:23:57.924Z"
   },
   {
    "duration": 238,
    "start_time": "2022-04-04T18:31:02.914Z"
   },
   {
    "duration": 137,
    "start_time": "2022-04-04T18:53:30.616Z"
   },
   {
    "duration": 11,
    "start_time": "2022-04-04T18:53:35.468Z"
   },
   {
    "duration": 1278,
    "start_time": "2022-04-14T22:10:15.795Z"
   },
   {
    "duration": 15,
    "start_time": "2022-04-14T22:10:17.076Z"
   },
   {
    "duration": 26,
    "start_time": "2022-04-14T22:10:17.093Z"
   },
   {
    "duration": 4,
    "start_time": "2022-04-14T22:10:17.121Z"
   },
   {
    "duration": 6,
    "start_time": "2022-04-14T22:10:17.127Z"
   },
   {
    "duration": 10,
    "start_time": "2022-04-14T22:10:17.135Z"
   },
   {
    "duration": 11,
    "start_time": "2022-04-14T22:10:17.147Z"
   },
   {
    "duration": 10,
    "start_time": "2022-04-14T22:10:17.160Z"
   },
   {
    "duration": 21,
    "start_time": "2022-04-14T22:10:17.207Z"
   },
   {
    "duration": 24,
    "start_time": "2022-04-14T22:10:17.231Z"
   },
   {
    "duration": 8,
    "start_time": "2022-04-14T22:10:17.256Z"
   },
   {
    "duration": 41,
    "start_time": "2022-04-14T22:10:17.266Z"
   },
   {
    "duration": 16,
    "start_time": "2022-04-14T22:10:17.309Z"
   },
   {
    "duration": 5,
    "start_time": "2022-04-14T22:10:17.326Z"
   },
   {
    "duration": 15,
    "start_time": "2022-04-14T22:10:17.332Z"
   },
   {
    "duration": 261,
    "start_time": "2022-04-14T22:10:17.348Z"
   },
   {
    "duration": 1006,
    "start_time": "2022-04-14T22:10:17.611Z"
   },
   {
    "duration": 427,
    "start_time": "2022-04-14T22:10:18.619Z"
   },
   {
    "duration": 559,
    "start_time": "2022-04-14T22:10:19.048Z"
   },
   {
    "duration": 16,
    "start_time": "2022-04-14T22:10:19.609Z"
   },
   {
    "duration": 6,
    "start_time": "2022-04-14T22:10:19.626Z"
   },
   {
    "duration": 77,
    "start_time": "2022-04-14T22:10:19.633Z"
   },
   {
    "duration": 497,
    "start_time": "2022-04-14T22:10:19.712Z"
   },
   {
    "duration": 6,
    "start_time": "2022-04-14T22:10:20.211Z"
   },
   {
    "duration": 10,
    "start_time": "2022-04-14T22:10:20.218Z"
   },
   {
    "duration": 278,
    "start_time": "2022-04-14T22:10:20.229Z"
   },
   {
    "duration": 9,
    "start_time": "2022-04-14T22:10:20.509Z"
   },
   {
    "duration": 5,
    "start_time": "2022-04-14T22:10:20.521Z"
   },
   {
    "duration": 8,
    "start_time": "2022-04-14T22:10:20.528Z"
   },
   {
    "duration": 7,
    "start_time": "2022-04-14T22:10:20.537Z"
   },
   {
    "duration": 190,
    "start_time": "2022-04-14T22:10:20.546Z"
   },
   {
    "duration": 4,
    "start_time": "2022-04-14T22:10:20.738Z"
   },
   {
    "duration": 7,
    "start_time": "2022-04-14T22:10:20.744Z"
   },
   {
    "duration": 6,
    "start_time": "2022-04-14T22:10:20.752Z"
   },
   {
    "duration": 234,
    "start_time": "2022-04-14T22:10:20.759Z"
   },
   {
    "duration": 16,
    "start_time": "2022-04-14T22:10:20.995Z"
   },
   {
    "duration": 9,
    "start_time": "2022-04-14T22:10:21.013Z"
   },
   {
    "duration": 6,
    "start_time": "2022-04-14T22:10:21.023Z"
   },
   {
    "duration": 169,
    "start_time": "2022-04-14T22:10:21.031Z"
   },
   {
    "duration": 16,
    "start_time": "2022-04-14T22:10:21.207Z"
   },
   {
    "duration": 201,
    "start_time": "2022-04-14T22:10:21.224Z"
   },
   {
    "duration": 451,
    "start_time": "2022-04-14T22:10:21.427Z"
   },
   {
    "duration": 448,
    "start_time": "2022-04-14T22:10:21.879Z"
   },
   {
    "duration": 425,
    "start_time": "2022-04-14T22:10:22.329Z"
   },
   {
    "duration": 9,
    "start_time": "2022-04-14T22:10:22.756Z"
   },
   {
    "duration": 11,
    "start_time": "2022-04-14T22:10:22.767Z"
   },
   {
    "duration": 1407,
    "start_time": "2022-04-18T18:32:49.810Z"
   },
   {
    "duration": 37,
    "start_time": "2022-04-18T18:32:51.219Z"
   },
   {
    "duration": 22,
    "start_time": "2022-04-18T18:32:51.258Z"
   },
   {
    "duration": 20,
    "start_time": "2022-04-18T18:32:51.282Z"
   },
   {
    "duration": 3,
    "start_time": "2022-04-18T18:32:51.304Z"
   },
   {
    "duration": 8,
    "start_time": "2022-04-18T18:32:51.308Z"
   },
   {
    "duration": 16,
    "start_time": "2022-04-18T18:32:51.317Z"
   },
   {
    "duration": 11,
    "start_time": "2022-04-18T18:32:51.335Z"
   },
   {
    "duration": 41,
    "start_time": "2022-04-18T18:32:51.348Z"
   },
   {
    "duration": 18,
    "start_time": "2022-04-18T18:32:51.392Z"
   },
   {
    "duration": 22,
    "start_time": "2022-04-18T18:32:51.412Z"
   },
   {
    "duration": 7,
    "start_time": "2022-04-18T18:32:51.435Z"
   },
   {
    "duration": 45,
    "start_time": "2022-04-18T18:32:51.444Z"
   },
   {
    "duration": 22,
    "start_time": "2022-04-18T18:32:51.491Z"
   },
   {
    "duration": 5,
    "start_time": "2022-04-18T18:32:51.514Z"
   },
   {
    "duration": 22,
    "start_time": "2022-04-18T18:32:51.521Z"
   },
   {
    "duration": 244,
    "start_time": "2022-04-18T18:32:51.545Z"
   },
   {
    "duration": 515,
    "start_time": "2022-04-18T18:32:51.791Z"
   },
   {
    "duration": 210,
    "start_time": "2022-04-18T18:32:52.308Z"
   },
   {
    "duration": 231,
    "start_time": "2022-04-18T18:32:52.520Z"
   },
   {
    "duration": 24,
    "start_time": "2022-04-18T18:32:52.753Z"
   },
   {
    "duration": 13,
    "start_time": "2022-04-18T18:32:52.780Z"
   },
   {
    "duration": 15,
    "start_time": "2022-04-18T18:32:52.795Z"
   },
   {
    "duration": 286,
    "start_time": "2022-04-18T18:32:52.812Z"
   },
   {
    "duration": 6,
    "start_time": "2022-04-18T18:32:53.100Z"
   },
   {
    "duration": 11,
    "start_time": "2022-04-18T18:32:53.107Z"
   },
   {
    "duration": 217,
    "start_time": "2022-04-18T18:32:53.120Z"
   },
   {
    "duration": 9,
    "start_time": "2022-04-18T18:32:53.341Z"
   },
   {
    "duration": 10,
    "start_time": "2022-04-18T18:32:53.352Z"
   },
   {
    "duration": 13,
    "start_time": "2022-04-18T18:32:53.373Z"
   },
   {
    "duration": 15,
    "start_time": "2022-04-18T18:32:53.387Z"
   },
   {
    "duration": 165,
    "start_time": "2022-04-18T18:32:53.404Z"
   },
   {
    "duration": 5,
    "start_time": "2022-04-18T18:32:53.573Z"
   },
   {
    "duration": 18,
    "start_time": "2022-04-18T18:32:53.579Z"
   },
   {
    "duration": 10,
    "start_time": "2022-04-18T18:32:53.600Z"
   },
   {
    "duration": 250,
    "start_time": "2022-04-18T18:32:53.612Z"
   },
   {
    "duration": 15,
    "start_time": "2022-04-18T18:32:53.864Z"
   },
   {
    "duration": 16,
    "start_time": "2022-04-18T18:32:53.883Z"
   },
   {
    "duration": 7,
    "start_time": "2022-04-18T18:32:53.901Z"
   },
   {
    "duration": 181,
    "start_time": "2022-04-18T18:32:53.910Z"
   },
   {
    "duration": 15,
    "start_time": "2022-04-18T18:32:54.093Z"
   },
   {
    "duration": 195,
    "start_time": "2022-04-18T18:32:54.111Z"
   },
   {
    "duration": 472,
    "start_time": "2022-04-18T18:32:54.308Z"
   },
   {
    "duration": 457,
    "start_time": "2022-04-18T18:32:54.782Z"
   },
   {
    "duration": 448,
    "start_time": "2022-04-18T18:32:55.241Z"
   },
   {
    "duration": 10,
    "start_time": "2022-04-18T18:32:55.690Z"
   },
   {
    "duration": 16,
    "start_time": "2022-04-18T18:32:55.702Z"
   },
   {
    "duration": 151,
    "start_time": "2022-04-18T18:33:56.555Z"
   },
   {
    "duration": 29,
    "start_time": "2022-04-18T18:34:23.869Z"
   },
   {
    "duration": 26,
    "start_time": "2022-04-18T18:35:04.200Z"
   },
   {
    "duration": 501,
    "start_time": "2022-04-18T18:35:20.341Z"
   },
   {
    "duration": 323,
    "start_time": "2022-04-18T18:36:21.795Z"
   },
   {
    "duration": 228,
    "start_time": "2022-04-18T18:36:32.247Z"
   },
   {
    "duration": 191,
    "start_time": "2022-04-18T18:36:42.185Z"
   },
   {
    "duration": 211,
    "start_time": "2022-04-18T18:36:59.257Z"
   },
   {
    "duration": 134,
    "start_time": "2022-04-18T18:37:40.403Z"
   },
   {
    "duration": 148,
    "start_time": "2022-04-18T18:37:49.627Z"
   },
   {
    "duration": 143,
    "start_time": "2022-04-18T18:37:56.345Z"
   },
   {
    "duration": 131,
    "start_time": "2022-04-18T18:38:11.286Z"
   },
   {
    "duration": 148,
    "start_time": "2022-04-18T18:38:19.462Z"
   },
   {
    "duration": 1092,
    "start_time": "2022-04-18T18:57:47.362Z"
   },
   {
    "duration": 36,
    "start_time": "2022-04-18T18:57:48.456Z"
   },
   {
    "duration": 13,
    "start_time": "2022-04-18T18:57:48.494Z"
   },
   {
    "duration": 31,
    "start_time": "2022-04-18T18:57:48.508Z"
   },
   {
    "duration": 5,
    "start_time": "2022-04-18T18:57:48.541Z"
   },
   {
    "duration": 23,
    "start_time": "2022-04-18T18:57:48.548Z"
   },
   {
    "duration": 34,
    "start_time": "2022-04-18T18:57:48.572Z"
   },
   {
    "duration": 25,
    "start_time": "2022-04-18T18:57:48.607Z"
   },
   {
    "duration": 15,
    "start_time": "2022-04-18T18:57:48.633Z"
   },
   {
    "duration": 26,
    "start_time": "2022-04-18T18:57:48.649Z"
   },
   {
    "duration": 19,
    "start_time": "2022-04-18T18:57:48.676Z"
   },
   {
    "duration": 7,
    "start_time": "2022-04-18T18:57:48.696Z"
   },
   {
    "duration": 27,
    "start_time": "2022-04-18T18:57:48.704Z"
   },
   {
    "duration": 16,
    "start_time": "2022-04-18T18:57:48.734Z"
   },
   {
    "duration": 13,
    "start_time": "2022-04-18T18:57:48.751Z"
   },
   {
    "duration": 19,
    "start_time": "2022-04-18T18:57:48.765Z"
   },
   {
    "duration": 191,
    "start_time": "2022-04-18T18:57:48.785Z"
   },
   {
    "duration": 607,
    "start_time": "2022-04-18T18:57:48.978Z"
   },
   {
    "duration": 476,
    "start_time": "2022-04-18T18:57:49.587Z"
   },
   {
    "duration": 634,
    "start_time": "2022-04-18T18:57:50.065Z"
   },
   {
    "duration": 69,
    "start_time": "2022-04-18T18:57:50.701Z"
   },
   {
    "duration": 7,
    "start_time": "2022-04-18T18:57:50.772Z"
   },
   {
    "duration": 81,
    "start_time": "2022-04-18T18:57:50.780Z"
   },
   {
    "duration": 422,
    "start_time": "2022-04-18T18:57:50.863Z"
   },
   {
    "duration": 7,
    "start_time": "2022-04-18T18:57:51.287Z"
   },
   {
    "duration": 24,
    "start_time": "2022-04-18T18:57:51.296Z"
   },
   {
    "duration": 176,
    "start_time": "2022-04-18T18:57:51.321Z"
   },
   {
    "duration": 8,
    "start_time": "2022-04-18T18:57:51.499Z"
   },
   {
    "duration": 25,
    "start_time": "2022-04-18T18:57:51.509Z"
   },
   {
    "duration": 15,
    "start_time": "2022-04-18T18:57:51.536Z"
   },
   {
    "duration": 22,
    "start_time": "2022-04-18T18:57:51.553Z"
   },
   {
    "duration": 139,
    "start_time": "2022-04-18T18:57:51.576Z"
   },
   {
    "duration": 6,
    "start_time": "2022-04-18T18:57:51.717Z"
   },
   {
    "duration": 8,
    "start_time": "2022-04-18T18:57:51.725Z"
   },
   {
    "duration": 20,
    "start_time": "2022-04-18T18:57:51.735Z"
   },
   {
    "duration": 206,
    "start_time": "2022-04-18T18:57:51.757Z"
   },
   {
    "duration": 8,
    "start_time": "2022-04-18T18:57:51.965Z"
   },
   {
    "duration": 11,
    "start_time": "2022-04-18T18:57:51.975Z"
   },
   {
    "duration": 27,
    "start_time": "2022-04-18T18:57:51.987Z"
   },
   {
    "duration": 133,
    "start_time": "2022-04-18T18:57:52.015Z"
   },
   {
    "duration": 14,
    "start_time": "2022-04-18T18:57:52.155Z"
   },
   {
    "duration": 172,
    "start_time": "2022-04-18T18:57:52.171Z"
   },
   {
    "duration": 372,
    "start_time": "2022-04-18T18:57:52.345Z"
   },
   {
    "duration": 373,
    "start_time": "2022-04-18T18:57:52.719Z"
   },
   {
    "duration": 362,
    "start_time": "2022-04-18T18:57:53.094Z"
   },
   {
    "duration": 9,
    "start_time": "2022-04-18T18:57:53.458Z"
   },
   {
    "duration": 22,
    "start_time": "2022-04-18T18:57:53.469Z"
   },
   {
    "duration": 31,
    "start_time": "2022-05-18T08:25:58.893Z"
   },
   {
    "duration": 1436,
    "start_time": "2022-05-18T08:25:58.931Z"
   },
   {
    "duration": 71,
    "start_time": "2022-05-18T08:26:00.368Z"
   },
   {
    "duration": 17,
    "start_time": "2022-05-18T08:26:00.441Z"
   },
   {
    "duration": 45,
    "start_time": "2022-05-18T08:26:00.459Z"
   },
   {
    "duration": 4,
    "start_time": "2022-05-18T08:26:00.507Z"
   },
   {
    "duration": 11,
    "start_time": "2022-05-18T08:26:00.513Z"
   },
   {
    "duration": 24,
    "start_time": "2022-05-18T08:26:00.526Z"
   },
   {
    "duration": 28,
    "start_time": "2022-05-18T08:26:00.552Z"
   },
   {
    "duration": 13,
    "start_time": "2022-05-18T08:26:00.582Z"
   },
   {
    "duration": 25,
    "start_time": "2022-05-18T08:26:00.597Z"
   },
   {
    "duration": 31,
    "start_time": "2022-05-18T08:26:00.624Z"
   },
   {
    "duration": 9,
    "start_time": "2022-05-18T08:26:00.657Z"
   },
   {
    "duration": 19,
    "start_time": "2022-05-18T08:26:00.668Z"
   },
   {
    "duration": 33,
    "start_time": "2022-05-18T08:26:00.690Z"
   },
   {
    "duration": 6,
    "start_time": "2022-05-18T08:26:00.725Z"
   },
   {
    "duration": 23,
    "start_time": "2022-05-18T08:26:00.733Z"
   },
   {
    "duration": 245,
    "start_time": "2022-05-18T08:26:00.758Z"
   },
   {
    "duration": 603,
    "start_time": "2022-05-18T08:26:01.004Z"
   },
   {
    "duration": 240,
    "start_time": "2022-05-18T08:26:01.609Z"
   },
   {
    "duration": 278,
    "start_time": "2022-05-18T08:26:01.851Z"
   },
   {
    "duration": 16,
    "start_time": "2022-05-18T08:26:02.131Z"
   },
   {
    "duration": 23,
    "start_time": "2022-05-18T08:26:02.148Z"
   },
   {
    "duration": 30,
    "start_time": "2022-05-18T08:26:02.173Z"
   },
   {
    "duration": 276,
    "start_time": "2022-05-18T08:26:02.205Z"
   },
   {
    "duration": 7,
    "start_time": "2022-05-18T08:26:02.482Z"
   },
   {
    "duration": 52,
    "start_time": "2022-05-18T08:26:02.490Z"
   },
   {
    "duration": 262,
    "start_time": "2022-05-18T08:26:02.543Z"
   },
   {
    "duration": 17,
    "start_time": "2022-05-18T08:26:02.807Z"
   },
   {
    "duration": 10,
    "start_time": "2022-05-18T08:26:02.826Z"
   },
   {
    "duration": 12,
    "start_time": "2022-05-18T08:26:02.838Z"
   },
   {
    "duration": 27,
    "start_time": "2022-05-18T08:26:02.852Z"
   },
   {
    "duration": 177,
    "start_time": "2022-05-18T08:26:02.882Z"
   },
   {
    "duration": 5,
    "start_time": "2022-05-18T08:26:03.061Z"
   },
   {
    "duration": 8,
    "start_time": "2022-05-18T08:26:03.067Z"
   },
   {
    "duration": 7,
    "start_time": "2022-05-18T08:26:03.077Z"
   },
   {
    "duration": 184,
    "start_time": "2022-05-18T08:26:03.085Z"
   },
   {
    "duration": 8,
    "start_time": "2022-05-18T08:26:03.271Z"
   },
   {
    "duration": 7,
    "start_time": "2022-05-18T08:26:03.281Z"
   },
   {
    "duration": 9,
    "start_time": "2022-05-18T08:26:03.290Z"
   },
   {
    "duration": 168,
    "start_time": "2022-05-18T08:26:03.300Z"
   },
   {
    "duration": 16,
    "start_time": "2022-05-18T08:26:03.471Z"
   },
   {
    "duration": 193,
    "start_time": "2022-05-18T08:26:03.489Z"
   },
   {
    "duration": 547,
    "start_time": "2022-05-18T08:26:03.684Z"
   },
   {
    "duration": 492,
    "start_time": "2022-05-18T08:26:04.233Z"
   },
   {
    "duration": 440,
    "start_time": "2022-05-18T08:26:04.727Z"
   },
   {
    "duration": 10,
    "start_time": "2022-05-18T08:26:05.169Z"
   },
   {
    "duration": 10,
    "start_time": "2022-05-18T08:26:05.181Z"
   },
   {
    "duration": 7,
    "start_time": "2022-05-18T08:26:20.654Z"
   },
   {
    "duration": 9,
    "start_time": "2022-05-18T08:27:26.572Z"
   }
  ],
  "kernelspec": {
   "display_name": "Python 3 (ipykernel)",
   "language": "python",
   "name": "python3"
  },
  "language_info": {
   "codemirror_mode": {
    "name": "ipython",
    "version": 3
   },
   "file_extension": ".py",
   "mimetype": "text/x-python",
   "name": "python",
   "nbconvert_exporter": "python",
   "pygments_lexer": "ipython3",
   "version": "3.9.7"
  },
  "toc": {
   "base_numbering": 1,
   "nav_menu": {},
   "number_sections": true,
   "sideBar": true,
   "skip_h1_title": true,
   "title_cell": "Table of Contents",
   "title_sidebar": "Contents",
   "toc_cell": false,
   "toc_position": {},
   "toc_section_display": true,
   "toc_window_display": true
  }
 },
 "nbformat": 4,
 "nbformat_minor": 2
}
